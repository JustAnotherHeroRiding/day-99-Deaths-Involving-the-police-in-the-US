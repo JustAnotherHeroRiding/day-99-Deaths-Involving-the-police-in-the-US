{
  "cells": [
    {
      "cell_type": "markdown",
      "metadata": {
        "id": "0KrR-Qd_wXf-"
      },
      "source": [
        "# Introduction"
      ]
    },
    {
      "cell_type": "markdown",
      "metadata": {
        "id": "I6e2m4XsuRoL"
      },
      "source": [
        "Since Jan. 1, 2015, [The Washington Post](https://www.washingtonpost.com/) has been compiling a database of every fatal shooting in the US by a police officer in the line of duty. \n",
        "\n",
        "<center><img src=https://i.imgur.com/sX3K62b.png></center>\n",
        "\n",
        "While there are many challenges regarding data collection and reporting, The Washington Post has been tracking more than a dozen details about each killing. This includes the race, age and gender of the deceased, whether the person was armed, and whether the victim was experiencing a mental-health crisis. The Washington Post has gathered this supplemental information from law enforcement websites, local new reports, social media, and by monitoring independent databases such as \"Killed by police\" and \"Fatal Encounters\". The Post has also conducted additional reporting in many cases.\n",
        "\n",
        "There are 4 additional datasets: US census data on poverty rate, high school graduation rate, median household income, and racial demographics. [Source of census data](https://factfinder.census.gov/faces/nav/jsf/pages/community_facts.xhtml)."
      ]
    },
    {
      "cell_type": "markdown",
      "metadata": {
        "id": "JwGJl3mnw2Af"
      },
      "source": [
        "### Upgrade Plotly\n",
        "\n",
        "Run the cell below if you are working with Google Colab"
      ]
    },
    {
      "cell_type": "code",
      "execution_count": 67,
      "metadata": {
        "colab": {
          "base_uri": "https://localhost:8080/"
        },
        "id": "KvA9PBoRwvQG",
        "outputId": "ca6ee2a1-8da5-4f2d-f2b2-ea019cd92cae"
      },
      "outputs": [],
      "source": [
        "#%pip install --upgrade plotly"
      ]
    },
    {
      "cell_type": "markdown",
      "metadata": {
        "id": "jqXsMLNJxELp"
      },
      "source": [
        "## Import Statements"
      ]
    },
    {
      "cell_type": "code",
      "execution_count": 68,
      "metadata": {
        "id": "TPhEXC2FxGSr"
      },
      "outputs": [],
      "source": [
        "import numpy as np\n",
        "import pandas as pd\n",
        "import plotly.express as px\n",
        "import matplotlib.pyplot as plt\n",
        "import seaborn as sns\n",
        "\n",
        "# This might be helpful:\n",
        "from collections import Counter"
      ]
    },
    {
      "cell_type": "markdown",
      "metadata": {
        "id": "SwKGmmaLxS2s"
      },
      "source": [
        "## Notebook Presentation"
      ]
    },
    {
      "cell_type": "code",
      "execution_count": 69,
      "metadata": {
        "id": "ayQQqhKtxBxj"
      },
      "outputs": [],
      "source": [
        "pd.options.display.float_format = '{:,.2f}'.format"
      ]
    },
    {
      "cell_type": "markdown",
      "metadata": {
        "id": "nKxJMOiMyAUF"
      },
      "source": [
        "## Load the Data"
      ]
    },
    {
      "cell_type": "code",
      "execution_count": 70,
      "metadata": {
        "_cell_guid": "abb0685f-f844-43f8-84c0-4cd54361c7bf",
        "_uuid": "9c06ed7c41db79ae9d940f2d52aeff23621b3037",
        "id": "8KmGeg6ouRoP"
      },
      "outputs": [],
      "source": [
        "df_hh_income = pd.read_csv('Median_Household_Income_2015.csv', encoding=\"windows-1252\")\n",
        "df_pct_poverty = pd.read_csv('Pct_People_Below_Poverty_Level.csv', encoding=\"windows-1252\")\n",
        "df_pct_completed_hs = pd.read_csv('Pct_Over_25_Completed_High_School.csv', encoding=\"windows-1252\")\n",
        "df_share_race_city = pd.read_csv('Share_of_Race_By_City.csv', encoding=\"windows-1252\")\n",
        "df_fatalities = pd.read_csv('Deaths_by_Police_US.csv', encoding=\"windows-1252\")"
      ]
    },
    {
      "cell_type": "markdown",
      "metadata": {
        "id": "6RuA5SvUyEaB"
      },
      "source": [
        "# Preliminary Data Exploration\n",
        "\n",
        "* What is the shape of the DataFrames? \n",
        "* How many rows and columns do they have?\n",
        "* What are the column names?\n",
        "* Are there any NaN values or duplicates?"
      ]
    },
    {
      "cell_type": "code",
      "execution_count": 71,
      "metadata": {
        "id": "3U9RcS1WyrRJ"
      },
      "outputs": [
        {
          "data": {
            "text/plain": [
              "Geographic Area     0\n",
              "City                0\n",
              "Median Income      51\n",
              "dtype: int64"
            ]
          },
          "execution_count": 71,
          "metadata": {},
          "output_type": "execute_result"
        }
      ],
      "source": [
        "#29322 rows 3 columns\n",
        "#df_hh_income.shape\n",
        "#df_hh_income.columns\n",
        "#'Geographic Area', 'City', 'Median Income'\n",
        "df_hh_income.isna().sum()\n",
        "#51 na values in the median income column"
      ]
    },
    {
      "cell_type": "code",
      "execution_count": 72,
      "metadata": {
        "id": "DmIARadGyrgs"
      },
      "outputs": [
        {
          "data": {
            "text/plain": [
              "Geographic Area         0\n",
              "City                    0\n",
              "percent_completed_hs    0\n",
              "dtype: int64"
            ]
          },
          "execution_count": 72,
          "metadata": {},
          "output_type": "execute_result"
        }
      ],
      "source": [
        "#29329 ROWS 3 columns\n",
        "df_pct_completed_hs.shape\n",
        "df_pct_completed_hs.columns\n",
        "#'Geographic Area', 'City', 'percent_completed_hs'\n",
        "df_pct_completed_hs.isna().sum()\n",
        "#no na values"
      ]
    },
    {
      "cell_type": "code",
      "execution_count": 73,
      "metadata": {
        "id": "OSgTJoX7yrcS"
      },
      "outputs": [
        {
          "data": {
            "text/plain": [
              "id                           0\n",
              "name                         0\n",
              "date                         0\n",
              "manner_of_death              0\n",
              "armed                        9\n",
              "age                         77\n",
              "gender                       0\n",
              "race                       195\n",
              "city                         0\n",
              "state                        0\n",
              "signs_of_mental_illness      0\n",
              "threat_level                 0\n",
              "flee                        65\n",
              "body_camera                  0\n",
              "dtype: int64"
            ]
          },
          "execution_count": 73,
          "metadata": {},
          "output_type": "execute_result"
        }
      ],
      "source": [
        "#df_fatalities\n",
        "#2535 rows 14 columns\n",
        "df_fatalities.shape\n",
        "df_fatalities.columns\n",
        "#'id', 'name', 'date', 'manner_of_death', 'armed', 'age', 'gender',\n",
        "#       'race', 'city', 'state', 'signs_of_mental_illness', 'threat_level',\n",
        "#       'flee', 'body_camera'\n",
        "df_fatalities.isna().sum()\n",
        "#77 age,9 ared,195 race 65 flee"
      ]
    },
    {
      "cell_type": "code",
      "execution_count": 74,
      "metadata": {},
      "outputs": [
        {
          "data": {
            "text/plain": [
              "Geographic Area    0\n",
              "City               0\n",
              "poverty_rate       0\n",
              "dtype: int64"
            ]
          },
          "execution_count": 74,
          "metadata": {},
          "output_type": "execute_result"
        }
      ],
      "source": [
        "df_pct_poverty\n",
        "#29329 rows 3 columns\n",
        "#df_pct_poverty.shape\n",
        "df_pct_poverty.columns\n",
        "#'Geographic Area', 'City', 'poverty_rate'\n",
        "df_pct_poverty.isna().sum()\n",
        "#no na values"
      ]
    },
    {
      "cell_type": "code",
      "execution_count": 75,
      "metadata": {},
      "outputs": [
        {
          "data": {
            "text/plain": [
              "Geographic area          0\n",
              "City                     0\n",
              "share_white              0\n",
              "share_black              0\n",
              "share_native_american    0\n",
              "share_asian              0\n",
              "share_hispanic           0\n",
              "dtype: int64"
            ]
          },
          "execution_count": 75,
          "metadata": {},
          "output_type": "execute_result"
        }
      ],
      "source": [
        "df_share_race_city\n",
        "#df_share_race_city.shape\n",
        "#29268 rows 7 columns\n",
        "df_share_race_city.columns\n",
        "#'Geographic area', 'City', 'share_white', 'share_black',\n",
        "#       'share_native_american', 'share_asian', 'share_hispanic'\n",
        "df_share_race_city.isna().sum()\n",
        "#no na values"
      ]
    },
    {
      "cell_type": "markdown",
      "metadata": {
        "id": "p72TfMvayr2C"
      },
      "source": [
        "## Data Cleaning - Check for Missing Values and Duplicates\n",
        "\n",
        "Consider how to deal with the NaN values. Perhaps substituting 0 is appropriate. "
      ]
    },
    {
      "cell_type": "code",
      "execution_count": 76,
      "metadata": {
        "id": "WEZuPaXvyxxp"
      },
      "outputs": [
        {
          "data": {
            "text/plain": [
              "Geographic Area    0\n",
              "City               0\n",
              "Median Income      0\n",
              "dtype: int64"
            ]
          },
          "execution_count": 76,
          "metadata": {},
          "output_type": "execute_result"
        }
      ],
      "source": [
        "#Fatalities and hh income have missing values,lets substitute them with 0\n",
        "#df.fillna(0) to fill with zeroes\n",
        "df_fatalities = df_fatalities.fillna(0)\n",
        "df_fatalities.isna().sum()\n",
        "df_hh_income = df_hh_income.fillna(0)\n",
        "df_hh_income.isna().sum()"
      ]
    },
    {
      "cell_type": "code",
      "execution_count": null,
      "metadata": {
        "id": "550aSczryx01"
      },
      "outputs": [],
      "source": []
    },
    {
      "cell_type": "markdown",
      "metadata": {
        "_uuid": "52b308c936f5835c5cd186497fe3f96e96372483",
        "id": "n3DrcXVQuRoZ"
      },
      "source": [
        "# Chart the Poverty Rate in each US State\n",
        "\n",
        "Create a bar chart that ranks the poverty rate from highest to lowest by US state. Which state has the highest poverty rate? Which state has the lowest poverty rate?  Bar Plot"
      ]
    },
    {
      "cell_type": "code",
      "execution_count": 77,
      "metadata": {
        "id": "mGxEzMDqzqmn"
      },
      "outputs": [
        {
          "data": {
            "text/plain": [
              "25   26.88\n",
              "3    25.67\n",
              "10   23.78\n",
              "32   23.08\n",
              "2    22.96\n",
              "18   22.34\n",
              "40   22.16\n",
              "49   21.13\n",
              "36   20.66\n",
              "1    20.65\n",
              "24   20.11\n",
              "17   20.08\n",
              "43   19.92\n",
              "42   19.89\n",
              "0    19.85\n",
              "27   19.75\n",
              "13   18.24\n",
              "7    18.00\n",
              "22   17.90\n",
              "9    17.57\n",
              "4    17.12\n",
              "21   16.89\n",
              "37   16.52\n",
              "26   16.51\n",
              "41   16.03\n",
              "15   15.50\n",
              "47   15.02\n",
              "35   14.85\n",
              "16   14.76\n",
              "45   14.59\n",
              "14   13.88\n",
              "46   13.79\n",
              "23   13.75\n",
              "11   13.40\n",
              "5    13.36\n",
              "29   12.98\n",
              "48   12.86\n",
              "30   12.66\n",
              "8    12.56\n",
              "38   12.52\n",
              "33   12.47\n",
              "12   12.29\n",
              "28   12.16\n",
              "44   11.98\n",
              "34   11.67\n",
              "39   10.37\n",
              "20   10.31\n",
              "50    9.89\n",
              "19    9.59\n",
              "6     9.14\n",
              "31    8.19\n",
              "Name: poverty_rate, dtype: float64"
            ]
          },
          "execution_count": 77,
          "metadata": {},
          "output_type": "execute_result"
        }
      ],
      "source": [
        "df_pct_poverty['poverty_rate'] = pd.to_numeric(df_pct_poverty['poverty_rate'],errors='coerce')\n",
        "poverty_per_state = df_pct_poverty.groupby('Geographic Area',as_index=False).agg({'poverty_rate':pd.Series.mean}).sort_values(by='poverty_rate',ascending=False)\n",
        "poverty_per_state['poverty_rate']"
      ]
    },
    {
      "cell_type": "code",
      "execution_count": 78,
      "metadata": {
        "id": "B3AM6oJQ1D_P"
      },
      "outputs": [
        {
          "data": {
            "application/vnd.plotly.v1+json": {
              "config": {
                "plotlyServerURL": "https://plot.ly"
              },
              "data": [
                {
                  "alignmentgroup": "True",
                  "hovertemplate": "Geographic Area=%{x}<br>poverty_rate=%{marker.color}<extra></extra>",
                  "legendgroup": "",
                  "marker": {
                    "color": [
                      26.884254143646405,
                      25.666441441441442,
                      23.777403846153845,
                      23.08078703703704,
                      22.963216266173752,
                      22.338900634249473,
                      22.161518987341772,
                      21.134405940594057,
                      20.657104194857915,
                      20.647089041095892,
                      20.105859375,
                      20.080000000000002,
                      19.918070175438597,
                      19.88720930232558,
                      19.852994011976048,
                      19.74728997289973,
                      18.236888888888885,
                      18,
                      17.900722543352604,
                      17.56601092896175,
                      17.12465023317788,
                      16.89384615384615,
                      16.523466666666668,
                      16.513774104683197,
                      16.032291666666666,
                      15.499852941176472,
                      15.017609046849756,
                      14.851112943116242,
                      14.762985074626867,
                      14.5858347386172,
                      13.879780219780221,
                      13.785950413223139,
                      13.745736434108526,
                      13.400662251655628,
                      13.362831858407082,
                      12.984575389948008,
                      12.85868725868726,
                      12.659793814432993,
                      12.555844155844156,
                      12.515585893060297,
                      12.466153846153846,
                      12.292522432701894,
                      12.162249999999998,
                      11.982704402515724,
                      11.668231349538978,
                      10.369444444444444,
                      10.312209302325583,
                      9.88770053475936,
                      9.585306122448978,
                      9.137500000000001,
                      8.190976058931861
                    ],
                    "coloraxis": "coloraxis",
                    "pattern": {
                      "shape": ""
                    }
                  },
                  "name": "",
                  "offsetgroup": "",
                  "orientation": "v",
                  "showlegend": false,
                  "textposition": "auto",
                  "type": "bar",
                  "x": [
                    "MS",
                    "AZ",
                    "GA",
                    "NM",
                    "AR",
                    "LA",
                    "SC",
                    "WV",
                    "OK",
                    "AL",
                    "MO",
                    "KY",
                    "TX",
                    "TN",
                    "AK",
                    "NC",
                    "ID",
                    "DC",
                    "MI",
                    "FL",
                    "CA",
                    "ME",
                    "OR",
                    "MT",
                    "SD",
                    "IN",
                    "WA",
                    "OH",
                    "KS",
                    "VA",
                    "IL",
                    "VT",
                    "MN",
                    "HI",
                    "CO",
                    "NE",
                    "WI",
                    "NH",
                    "DE",
                    "PA",
                    "NV",
                    "IA",
                    "ND",
                    "UT",
                    "NY",
                    "RI",
                    "MD",
                    "WY",
                    "MA",
                    "CT",
                    "NJ"
                  ],
                  "xaxis": "x",
                  "y": [
                    26.884254143646405,
                    25.666441441441442,
                    23.777403846153845,
                    23.08078703703704,
                    22.963216266173752,
                    22.338900634249473,
                    22.161518987341772,
                    21.134405940594057,
                    20.657104194857915,
                    20.647089041095892,
                    20.105859375,
                    20.080000000000002,
                    19.918070175438597,
                    19.88720930232558,
                    19.852994011976048,
                    19.74728997289973,
                    18.236888888888885,
                    18,
                    17.900722543352604,
                    17.56601092896175,
                    17.12465023317788,
                    16.89384615384615,
                    16.523466666666668,
                    16.513774104683197,
                    16.032291666666666,
                    15.499852941176472,
                    15.017609046849756,
                    14.851112943116242,
                    14.762985074626867,
                    14.5858347386172,
                    13.879780219780221,
                    13.785950413223139,
                    13.745736434108526,
                    13.400662251655628,
                    13.362831858407082,
                    12.984575389948008,
                    12.85868725868726,
                    12.659793814432993,
                    12.555844155844156,
                    12.515585893060297,
                    12.466153846153846,
                    12.292522432701894,
                    12.162249999999998,
                    11.982704402515724,
                    11.668231349538978,
                    10.369444444444444,
                    10.312209302325583,
                    9.88770053475936,
                    9.585306122448978,
                    9.137500000000001,
                    8.190976058931861
                  ],
                  "yaxis": "y"
                }
              ],
              "layout": {
                "barmode": "relative",
                "coloraxis": {
                  "colorbar": {
                    "title": {
                      "text": "poverty_rate"
                    }
                  },
                  "colorscale": [
                    [
                      0,
                      "rgb(0,0,0)"
                    ],
                    [
                      0.2,
                      "rgb(30,0,100)"
                    ],
                    [
                      0.4,
                      "rgb(120,0,100)"
                    ],
                    [
                      0.6,
                      "rgb(160,90,0)"
                    ],
                    [
                      0.8,
                      "rgb(230,200,0)"
                    ],
                    [
                      1,
                      "rgb(255,250,220)"
                    ]
                  ],
                  "showscale": false
                },
                "legend": {
                  "tracegroupgap": 0
                },
                "template": {
                  "data": {
                    "bar": [
                      {
                        "error_x": {
                          "color": "#2a3f5f"
                        },
                        "error_y": {
                          "color": "#2a3f5f"
                        },
                        "marker": {
                          "line": {
                            "color": "#E5ECF6",
                            "width": 0.5
                          },
                          "pattern": {
                            "fillmode": "overlay",
                            "size": 10,
                            "solidity": 0.2
                          }
                        },
                        "type": "bar"
                      }
                    ],
                    "barpolar": [
                      {
                        "marker": {
                          "line": {
                            "color": "#E5ECF6",
                            "width": 0.5
                          },
                          "pattern": {
                            "fillmode": "overlay",
                            "size": 10,
                            "solidity": 0.2
                          }
                        },
                        "type": "barpolar"
                      }
                    ],
                    "carpet": [
                      {
                        "aaxis": {
                          "endlinecolor": "#2a3f5f",
                          "gridcolor": "white",
                          "linecolor": "white",
                          "minorgridcolor": "white",
                          "startlinecolor": "#2a3f5f"
                        },
                        "baxis": {
                          "endlinecolor": "#2a3f5f",
                          "gridcolor": "white",
                          "linecolor": "white",
                          "minorgridcolor": "white",
                          "startlinecolor": "#2a3f5f"
                        },
                        "type": "carpet"
                      }
                    ],
                    "choropleth": [
                      {
                        "colorbar": {
                          "outlinewidth": 0,
                          "ticks": ""
                        },
                        "type": "choropleth"
                      }
                    ],
                    "contour": [
                      {
                        "colorbar": {
                          "outlinewidth": 0,
                          "ticks": ""
                        },
                        "colorscale": [
                          [
                            0,
                            "#0d0887"
                          ],
                          [
                            0.1111111111111111,
                            "#46039f"
                          ],
                          [
                            0.2222222222222222,
                            "#7201a8"
                          ],
                          [
                            0.3333333333333333,
                            "#9c179e"
                          ],
                          [
                            0.4444444444444444,
                            "#bd3786"
                          ],
                          [
                            0.5555555555555556,
                            "#d8576b"
                          ],
                          [
                            0.6666666666666666,
                            "#ed7953"
                          ],
                          [
                            0.7777777777777778,
                            "#fb9f3a"
                          ],
                          [
                            0.8888888888888888,
                            "#fdca26"
                          ],
                          [
                            1,
                            "#f0f921"
                          ]
                        ],
                        "type": "contour"
                      }
                    ],
                    "contourcarpet": [
                      {
                        "colorbar": {
                          "outlinewidth": 0,
                          "ticks": ""
                        },
                        "type": "contourcarpet"
                      }
                    ],
                    "heatmap": [
                      {
                        "colorbar": {
                          "outlinewidth": 0,
                          "ticks": ""
                        },
                        "colorscale": [
                          [
                            0,
                            "#0d0887"
                          ],
                          [
                            0.1111111111111111,
                            "#46039f"
                          ],
                          [
                            0.2222222222222222,
                            "#7201a8"
                          ],
                          [
                            0.3333333333333333,
                            "#9c179e"
                          ],
                          [
                            0.4444444444444444,
                            "#bd3786"
                          ],
                          [
                            0.5555555555555556,
                            "#d8576b"
                          ],
                          [
                            0.6666666666666666,
                            "#ed7953"
                          ],
                          [
                            0.7777777777777778,
                            "#fb9f3a"
                          ],
                          [
                            0.8888888888888888,
                            "#fdca26"
                          ],
                          [
                            1,
                            "#f0f921"
                          ]
                        ],
                        "type": "heatmap"
                      }
                    ],
                    "heatmapgl": [
                      {
                        "colorbar": {
                          "outlinewidth": 0,
                          "ticks": ""
                        },
                        "colorscale": [
                          [
                            0,
                            "#0d0887"
                          ],
                          [
                            0.1111111111111111,
                            "#46039f"
                          ],
                          [
                            0.2222222222222222,
                            "#7201a8"
                          ],
                          [
                            0.3333333333333333,
                            "#9c179e"
                          ],
                          [
                            0.4444444444444444,
                            "#bd3786"
                          ],
                          [
                            0.5555555555555556,
                            "#d8576b"
                          ],
                          [
                            0.6666666666666666,
                            "#ed7953"
                          ],
                          [
                            0.7777777777777778,
                            "#fb9f3a"
                          ],
                          [
                            0.8888888888888888,
                            "#fdca26"
                          ],
                          [
                            1,
                            "#f0f921"
                          ]
                        ],
                        "type": "heatmapgl"
                      }
                    ],
                    "histogram": [
                      {
                        "marker": {
                          "pattern": {
                            "fillmode": "overlay",
                            "size": 10,
                            "solidity": 0.2
                          }
                        },
                        "type": "histogram"
                      }
                    ],
                    "histogram2d": [
                      {
                        "colorbar": {
                          "outlinewidth": 0,
                          "ticks": ""
                        },
                        "colorscale": [
                          [
                            0,
                            "#0d0887"
                          ],
                          [
                            0.1111111111111111,
                            "#46039f"
                          ],
                          [
                            0.2222222222222222,
                            "#7201a8"
                          ],
                          [
                            0.3333333333333333,
                            "#9c179e"
                          ],
                          [
                            0.4444444444444444,
                            "#bd3786"
                          ],
                          [
                            0.5555555555555556,
                            "#d8576b"
                          ],
                          [
                            0.6666666666666666,
                            "#ed7953"
                          ],
                          [
                            0.7777777777777778,
                            "#fb9f3a"
                          ],
                          [
                            0.8888888888888888,
                            "#fdca26"
                          ],
                          [
                            1,
                            "#f0f921"
                          ]
                        ],
                        "type": "histogram2d"
                      }
                    ],
                    "histogram2dcontour": [
                      {
                        "colorbar": {
                          "outlinewidth": 0,
                          "ticks": ""
                        },
                        "colorscale": [
                          [
                            0,
                            "#0d0887"
                          ],
                          [
                            0.1111111111111111,
                            "#46039f"
                          ],
                          [
                            0.2222222222222222,
                            "#7201a8"
                          ],
                          [
                            0.3333333333333333,
                            "#9c179e"
                          ],
                          [
                            0.4444444444444444,
                            "#bd3786"
                          ],
                          [
                            0.5555555555555556,
                            "#d8576b"
                          ],
                          [
                            0.6666666666666666,
                            "#ed7953"
                          ],
                          [
                            0.7777777777777778,
                            "#fb9f3a"
                          ],
                          [
                            0.8888888888888888,
                            "#fdca26"
                          ],
                          [
                            1,
                            "#f0f921"
                          ]
                        ],
                        "type": "histogram2dcontour"
                      }
                    ],
                    "mesh3d": [
                      {
                        "colorbar": {
                          "outlinewidth": 0,
                          "ticks": ""
                        },
                        "type": "mesh3d"
                      }
                    ],
                    "parcoords": [
                      {
                        "line": {
                          "colorbar": {
                            "outlinewidth": 0,
                            "ticks": ""
                          }
                        },
                        "type": "parcoords"
                      }
                    ],
                    "pie": [
                      {
                        "automargin": true,
                        "type": "pie"
                      }
                    ],
                    "scatter": [
                      {
                        "fillpattern": {
                          "fillmode": "overlay",
                          "size": 10,
                          "solidity": 0.2
                        },
                        "type": "scatter"
                      }
                    ],
                    "scatter3d": [
                      {
                        "line": {
                          "colorbar": {
                            "outlinewidth": 0,
                            "ticks": ""
                          }
                        },
                        "marker": {
                          "colorbar": {
                            "outlinewidth": 0,
                            "ticks": ""
                          }
                        },
                        "type": "scatter3d"
                      }
                    ],
                    "scattercarpet": [
                      {
                        "marker": {
                          "colorbar": {
                            "outlinewidth": 0,
                            "ticks": ""
                          }
                        },
                        "type": "scattercarpet"
                      }
                    ],
                    "scattergeo": [
                      {
                        "marker": {
                          "colorbar": {
                            "outlinewidth": 0,
                            "ticks": ""
                          }
                        },
                        "type": "scattergeo"
                      }
                    ],
                    "scattergl": [
                      {
                        "marker": {
                          "colorbar": {
                            "outlinewidth": 0,
                            "ticks": ""
                          }
                        },
                        "type": "scattergl"
                      }
                    ],
                    "scattermapbox": [
                      {
                        "marker": {
                          "colorbar": {
                            "outlinewidth": 0,
                            "ticks": ""
                          }
                        },
                        "type": "scattermapbox"
                      }
                    ],
                    "scatterpolar": [
                      {
                        "marker": {
                          "colorbar": {
                            "outlinewidth": 0,
                            "ticks": ""
                          }
                        },
                        "type": "scatterpolar"
                      }
                    ],
                    "scatterpolargl": [
                      {
                        "marker": {
                          "colorbar": {
                            "outlinewidth": 0,
                            "ticks": ""
                          }
                        },
                        "type": "scatterpolargl"
                      }
                    ],
                    "scatterternary": [
                      {
                        "marker": {
                          "colorbar": {
                            "outlinewidth": 0,
                            "ticks": ""
                          }
                        },
                        "type": "scatterternary"
                      }
                    ],
                    "surface": [
                      {
                        "colorbar": {
                          "outlinewidth": 0,
                          "ticks": ""
                        },
                        "colorscale": [
                          [
                            0,
                            "#0d0887"
                          ],
                          [
                            0.1111111111111111,
                            "#46039f"
                          ],
                          [
                            0.2222222222222222,
                            "#7201a8"
                          ],
                          [
                            0.3333333333333333,
                            "#9c179e"
                          ],
                          [
                            0.4444444444444444,
                            "#bd3786"
                          ],
                          [
                            0.5555555555555556,
                            "#d8576b"
                          ],
                          [
                            0.6666666666666666,
                            "#ed7953"
                          ],
                          [
                            0.7777777777777778,
                            "#fb9f3a"
                          ],
                          [
                            0.8888888888888888,
                            "#fdca26"
                          ],
                          [
                            1,
                            "#f0f921"
                          ]
                        ],
                        "type": "surface"
                      }
                    ],
                    "table": [
                      {
                        "cells": {
                          "fill": {
                            "color": "#EBF0F8"
                          },
                          "line": {
                            "color": "white"
                          }
                        },
                        "header": {
                          "fill": {
                            "color": "#C8D4E3"
                          },
                          "line": {
                            "color": "white"
                          }
                        },
                        "type": "table"
                      }
                    ]
                  },
                  "layout": {
                    "annotationdefaults": {
                      "arrowcolor": "#2a3f5f",
                      "arrowhead": 0,
                      "arrowwidth": 1
                    },
                    "autotypenumbers": "strict",
                    "coloraxis": {
                      "colorbar": {
                        "outlinewidth": 0,
                        "ticks": ""
                      }
                    },
                    "colorscale": {
                      "diverging": [
                        [
                          0,
                          "#8e0152"
                        ],
                        [
                          0.1,
                          "#c51b7d"
                        ],
                        [
                          0.2,
                          "#de77ae"
                        ],
                        [
                          0.3,
                          "#f1b6da"
                        ],
                        [
                          0.4,
                          "#fde0ef"
                        ],
                        [
                          0.5,
                          "#f7f7f7"
                        ],
                        [
                          0.6,
                          "#e6f5d0"
                        ],
                        [
                          0.7,
                          "#b8e186"
                        ],
                        [
                          0.8,
                          "#7fbc41"
                        ],
                        [
                          0.9,
                          "#4d9221"
                        ],
                        [
                          1,
                          "#276419"
                        ]
                      ],
                      "sequential": [
                        [
                          0,
                          "#0d0887"
                        ],
                        [
                          0.1111111111111111,
                          "#46039f"
                        ],
                        [
                          0.2222222222222222,
                          "#7201a8"
                        ],
                        [
                          0.3333333333333333,
                          "#9c179e"
                        ],
                        [
                          0.4444444444444444,
                          "#bd3786"
                        ],
                        [
                          0.5555555555555556,
                          "#d8576b"
                        ],
                        [
                          0.6666666666666666,
                          "#ed7953"
                        ],
                        [
                          0.7777777777777778,
                          "#fb9f3a"
                        ],
                        [
                          0.8888888888888888,
                          "#fdca26"
                        ],
                        [
                          1,
                          "#f0f921"
                        ]
                      ],
                      "sequentialminus": [
                        [
                          0,
                          "#0d0887"
                        ],
                        [
                          0.1111111111111111,
                          "#46039f"
                        ],
                        [
                          0.2222222222222222,
                          "#7201a8"
                        ],
                        [
                          0.3333333333333333,
                          "#9c179e"
                        ],
                        [
                          0.4444444444444444,
                          "#bd3786"
                        ],
                        [
                          0.5555555555555556,
                          "#d8576b"
                        ],
                        [
                          0.6666666666666666,
                          "#ed7953"
                        ],
                        [
                          0.7777777777777778,
                          "#fb9f3a"
                        ],
                        [
                          0.8888888888888888,
                          "#fdca26"
                        ],
                        [
                          1,
                          "#f0f921"
                        ]
                      ]
                    },
                    "colorway": [
                      "#636efa",
                      "#EF553B",
                      "#00cc96",
                      "#ab63fa",
                      "#FFA15A",
                      "#19d3f3",
                      "#FF6692",
                      "#B6E880",
                      "#FF97FF",
                      "#FECB52"
                    ],
                    "font": {
                      "color": "#2a3f5f"
                    },
                    "geo": {
                      "bgcolor": "white",
                      "lakecolor": "white",
                      "landcolor": "#E5ECF6",
                      "showlakes": true,
                      "showland": true,
                      "subunitcolor": "white"
                    },
                    "hoverlabel": {
                      "align": "left"
                    },
                    "hovermode": "closest",
                    "mapbox": {
                      "style": "light"
                    },
                    "paper_bgcolor": "white",
                    "plot_bgcolor": "#E5ECF6",
                    "polar": {
                      "angularaxis": {
                        "gridcolor": "white",
                        "linecolor": "white",
                        "ticks": ""
                      },
                      "bgcolor": "#E5ECF6",
                      "radialaxis": {
                        "gridcolor": "white",
                        "linecolor": "white",
                        "ticks": ""
                      }
                    },
                    "scene": {
                      "xaxis": {
                        "backgroundcolor": "#E5ECF6",
                        "gridcolor": "white",
                        "gridwidth": 2,
                        "linecolor": "white",
                        "showbackground": true,
                        "ticks": "",
                        "zerolinecolor": "white"
                      },
                      "yaxis": {
                        "backgroundcolor": "#E5ECF6",
                        "gridcolor": "white",
                        "gridwidth": 2,
                        "linecolor": "white",
                        "showbackground": true,
                        "ticks": "",
                        "zerolinecolor": "white"
                      },
                      "zaxis": {
                        "backgroundcolor": "#E5ECF6",
                        "gridcolor": "white",
                        "gridwidth": 2,
                        "linecolor": "white",
                        "showbackground": true,
                        "ticks": "",
                        "zerolinecolor": "white"
                      }
                    },
                    "shapedefaults": {
                      "line": {
                        "color": "#2a3f5f"
                      }
                    },
                    "ternary": {
                      "aaxis": {
                        "gridcolor": "white",
                        "linecolor": "white",
                        "ticks": ""
                      },
                      "baxis": {
                        "gridcolor": "white",
                        "linecolor": "white",
                        "ticks": ""
                      },
                      "bgcolor": "#E5ECF6",
                      "caxis": {
                        "gridcolor": "white",
                        "linecolor": "white",
                        "ticks": ""
                      }
                    },
                    "title": {
                      "x": 0.05
                    },
                    "xaxis": {
                      "automargin": true,
                      "gridcolor": "white",
                      "linecolor": "white",
                      "ticks": "",
                      "title": {
                        "standoff": 15
                      },
                      "zerolinecolor": "white",
                      "zerolinewidth": 2
                    },
                    "yaxis": {
                      "automargin": true,
                      "gridcolor": "white",
                      "linecolor": "white",
                      "ticks": "",
                      "title": {
                        "standoff": 15
                      },
                      "zerolinecolor": "white",
                      "zerolinewidth": 2
                    }
                  }
                },
                "title": {
                  "text": "Number of Launches per Organization"
                },
                "xaxis": {
                  "anchor": "y",
                  "domain": [
                    0,
                    1
                  ],
                  "title": {
                    "text": "State"
                  }
                },
                "yaxis": {
                  "anchor": "x",
                  "domain": [
                    0,
                    1
                  ],
                  "tickfont": {
                    "size": 10
                  },
                  "title": {
                    "text": "Poverty Rate"
                  }
                }
              }
            }
          },
          "metadata": {},
          "output_type": "display_data"
        }
      ],
      "source": [
        "bar= px.bar(poverty_per_state, \n",
        "             x=poverty_per_state['Geographic Area'], \n",
        "             y=poverty_per_state['poverty_rate'],  \n",
        "             title='Number of Launches per Organization',\n",
        "             color=\"poverty_rate\",\n",
        "             color_continuous_scale='Electric'\n",
        "             )\n",
        "bar.update_layout(coloraxis_showscale=False, xaxis_title = \"State\", yaxis_title='Poverty Rate')\n",
        "bar.update_layout(yaxis=dict(tickfont=dict(size=10)))\n",
        "bar.show()"
      ]
    },
    {
      "cell_type": "markdown",
      "metadata": {
        "id": "GhUibVz5z4sn"
      },
      "source": [
        "# Chart the High School Graduation Rate by US State\n",
        "\n",
        "Show the High School Graduation Rate in ascending order of US States. Which state has the lowest high school graduation rate? Which state has the highest?"
      ]
    },
    {
      "cell_type": "code",
      "execution_count": 82,
      "metadata": {
        "id": "laD6W9eG0JFR"
      },
      "outputs": [
        {
          "data": {
            "text/html": [
              "<div>\n",
              "<style scoped>\n",
              "    .dataframe tbody tr th:only-of-type {\n",
              "        vertical-align: middle;\n",
              "    }\n",
              "\n",
              "    .dataframe tbody tr th {\n",
              "        vertical-align: top;\n",
              "    }\n",
              "\n",
              "    .dataframe thead th {\n",
              "        text-align: right;\n",
              "    }\n",
              "</style>\n",
              "<table border=\"1\" class=\"dataframe\">\n",
              "  <thead>\n",
              "    <tr style=\"text-align: right;\">\n",
              "      <th></th>\n",
              "      <th>Geographic Area</th>\n",
              "      <th>percent_completed_hs</th>\n",
              "    </tr>\n",
              "  </thead>\n",
              "  <tbody>\n",
              "    <tr>\n",
              "      <th>43</th>\n",
              "      <td>TX</td>\n",
              "      <td>75.69</td>\n",
              "    </tr>\n",
              "    <tr>\n",
              "      <th>25</th>\n",
              "      <td>MS</td>\n",
              "      <td>78.47</td>\n",
              "    </tr>\n",
              "    <tr>\n",
              "      <th>10</th>\n",
              "      <td>GA</td>\n",
              "      <td>79.01</td>\n",
              "    </tr>\n",
              "    <tr>\n",
              "      <th>18</th>\n",
              "      <td>LA</td>\n",
              "      <td>79.29</td>\n",
              "    </tr>\n",
              "    <tr>\n",
              "      <th>2</th>\n",
              "      <td>AR</td>\n",
              "      <td>79.95</td>\n",
              "    </tr>\n",
              "    <tr>\n",
              "      <th>1</th>\n",
              "      <td>AL</td>\n",
              "      <td>80.30</td>\n",
              "    </tr>\n",
              "    <tr>\n",
              "      <th>3</th>\n",
              "      <td>AZ</td>\n",
              "      <td>80.47</td>\n",
              "    </tr>\n",
              "    <tr>\n",
              "      <th>40</th>\n",
              "      <td>SC</td>\n",
              "      <td>80.85</td>\n",
              "    </tr>\n",
              "    <tr>\n",
              "      <th>32</th>\n",
              "      <td>NM</td>\n",
              "      <td>80.98</td>\n",
              "    </tr>\n",
              "    <tr>\n",
              "      <th>42</th>\n",
              "      <td>TN</td>\n",
              "      <td>81.63</td>\n",
              "    </tr>\n",
              "    <tr>\n",
              "      <th>4</th>\n",
              "      <td>CA</td>\n",
              "      <td>81.96</td>\n",
              "    </tr>\n",
              "    <tr>\n",
              "      <th>49</th>\n",
              "      <td>WV</td>\n",
              "      <td>82.35</td>\n",
              "    </tr>\n",
              "    <tr>\n",
              "      <th>17</th>\n",
              "      <td>KY</td>\n",
              "      <td>82.37</td>\n",
              "    </tr>\n",
              "    <tr>\n",
              "      <th>36</th>\n",
              "      <td>OK</td>\n",
              "      <td>82.91</td>\n",
              "    </tr>\n",
              "    <tr>\n",
              "      <th>27</th>\n",
              "      <td>NC</td>\n",
              "      <td>83.25</td>\n",
              "    </tr>\n",
              "    <tr>\n",
              "      <th>24</th>\n",
              "      <td>MO</td>\n",
              "      <td>83.52</td>\n",
              "    </tr>\n",
              "    <tr>\n",
              "      <th>0</th>\n",
              "      <td>AK</td>\n",
              "      <td>84.63</td>\n",
              "    </tr>\n",
              "    <tr>\n",
              "      <th>45</th>\n",
              "      <td>VA</td>\n",
              "      <td>84.88</td>\n",
              "    </tr>\n",
              "    <tr>\n",
              "      <th>13</th>\n",
              "      <td>ID</td>\n",
              "      <td>85.17</td>\n",
              "    </tr>\n",
              "    <tr>\n",
              "      <th>9</th>\n",
              "      <td>FL</td>\n",
              "      <td>85.74</td>\n",
              "    </tr>\n",
              "    <tr>\n",
              "      <th>15</th>\n",
              "      <td>IN</td>\n",
              "      <td>86.32</td>\n",
              "    </tr>\n",
              "    <tr>\n",
              "      <th>33</th>\n",
              "      <td>NV</td>\n",
              "      <td>87.72</td>\n",
              "    </tr>\n",
              "    <tr>\n",
              "      <th>41</th>\n",
              "      <td>SD</td>\n",
              "      <td>87.75</td>\n",
              "    </tr>\n",
              "    <tr>\n",
              "      <th>28</th>\n",
              "      <td>ND</td>\n",
              "      <td>87.82</td>\n",
              "    </tr>\n",
              "    <tr>\n",
              "      <th>47</th>\n",
              "      <td>WA</td>\n",
              "      <td>88.20</td>\n",
              "    </tr>\n",
              "    <tr>\n",
              "      <th>16</th>\n",
              "      <td>KS</td>\n",
              "      <td>88.23</td>\n",
              "    </tr>\n",
              "    <tr>\n",
              "      <th>37</th>\n",
              "      <td>OR</td>\n",
              "      <td>88.30</td>\n",
              "    </tr>\n",
              "    <tr>\n",
              "      <th>35</th>\n",
              "      <td>OH</td>\n",
              "      <td>88.34</td>\n",
              "    </tr>\n",
              "    <tr>\n",
              "      <th>20</th>\n",
              "      <td>MD</td>\n",
              "      <td>88.42</td>\n",
              "    </tr>\n",
              "    <tr>\n",
              "      <th>14</th>\n",
              "      <td>IL</td>\n",
              "      <td>88.48</td>\n",
              "    </tr>\n",
              "    <tr>\n",
              "      <th>8</th>\n",
              "      <td>DE</td>\n",
              "      <td>88.52</td>\n",
              "    </tr>\n",
              "    <tr>\n",
              "      <th>39</th>\n",
              "      <td>RI</td>\n",
              "      <td>88.82</td>\n",
              "    </tr>\n",
              "    <tr>\n",
              "      <th>38</th>\n",
              "      <td>PA</td>\n",
              "      <td>89.02</td>\n",
              "    </tr>\n",
              "    <tr>\n",
              "      <th>22</th>\n",
              "      <td>MI</td>\n",
              "      <td>89.21</td>\n",
              "    </tr>\n",
              "    <tr>\n",
              "      <th>7</th>\n",
              "      <td>DC</td>\n",
              "      <td>89.30</td>\n",
              "    </tr>\n",
              "    <tr>\n",
              "      <th>23</th>\n",
              "      <td>MN</td>\n",
              "      <td>89.47</td>\n",
              "    </tr>\n",
              "    <tr>\n",
              "      <th>46</th>\n",
              "      <td>VT</td>\n",
              "      <td>89.98</td>\n",
              "    </tr>\n",
              "    <tr>\n",
              "      <th>29</th>\n",
              "      <td>NE</td>\n",
              "      <td>89.99</td>\n",
              "    </tr>\n",
              "    <tr>\n",
              "      <th>5</th>\n",
              "      <td>CO</td>\n",
              "      <td>90.11</td>\n",
              "    </tr>\n",
              "    <tr>\n",
              "      <th>12</th>\n",
              "      <td>IA</td>\n",
              "      <td>90.11</td>\n",
              "    </tr>\n",
              "    <tr>\n",
              "      <th>48</th>\n",
              "      <td>WI</td>\n",
              "      <td>90.26</td>\n",
              "    </tr>\n",
              "    <tr>\n",
              "      <th>26</th>\n",
              "      <td>MT</td>\n",
              "      <td>90.49</td>\n",
              "    </tr>\n",
              "    <tr>\n",
              "      <th>34</th>\n",
              "      <td>NY</td>\n",
              "      <td>90.61</td>\n",
              "    </tr>\n",
              "    <tr>\n",
              "      <th>30</th>\n",
              "      <td>NH</td>\n",
              "      <td>90.71</td>\n",
              "    </tr>\n",
              "    <tr>\n",
              "      <th>31</th>\n",
              "      <td>NJ</td>\n",
              "      <td>90.85</td>\n",
              "    </tr>\n",
              "    <tr>\n",
              "      <th>21</th>\n",
              "      <td>ME</td>\n",
              "      <td>91.43</td>\n",
              "    </tr>\n",
              "    <tr>\n",
              "      <th>6</th>\n",
              "      <td>CT</td>\n",
              "      <td>91.59</td>\n",
              "    </tr>\n",
              "    <tr>\n",
              "      <th>44</th>\n",
              "      <td>UT</td>\n",
              "      <td>91.62</td>\n",
              "    </tr>\n",
              "    <tr>\n",
              "      <th>11</th>\n",
              "      <td>HI</td>\n",
              "      <td>91.67</td>\n",
              "    </tr>\n",
              "    <tr>\n",
              "      <th>50</th>\n",
              "      <td>WY</td>\n",
              "      <td>92.10</td>\n",
              "    </tr>\n",
              "    <tr>\n",
              "      <th>19</th>\n",
              "      <td>MA</td>\n",
              "      <td>92.40</td>\n",
              "    </tr>\n",
              "  </tbody>\n",
              "</table>\n",
              "</div>"
            ],
            "text/plain": [
              "   Geographic Area  percent_completed_hs\n",
              "43              TX                 75.69\n",
              "25              MS                 78.47\n",
              "10              GA                 79.01\n",
              "18              LA                 79.29\n",
              "2               AR                 79.95\n",
              "1               AL                 80.30\n",
              "3               AZ                 80.47\n",
              "40              SC                 80.85\n",
              "32              NM                 80.98\n",
              "42              TN                 81.63\n",
              "4               CA                 81.96\n",
              "49              WV                 82.35\n",
              "17              KY                 82.37\n",
              "36              OK                 82.91\n",
              "27              NC                 83.25\n",
              "24              MO                 83.52\n",
              "0               AK                 84.63\n",
              "45              VA                 84.88\n",
              "13              ID                 85.17\n",
              "9               FL                 85.74\n",
              "15              IN                 86.32\n",
              "33              NV                 87.72\n",
              "41              SD                 87.75\n",
              "28              ND                 87.82\n",
              "47              WA                 88.20\n",
              "16              KS                 88.23\n",
              "37              OR                 88.30\n",
              "35              OH                 88.34\n",
              "20              MD                 88.42\n",
              "14              IL                 88.48\n",
              "8               DE                 88.52\n",
              "39              RI                 88.82\n",
              "38              PA                 89.02\n",
              "22              MI                 89.21\n",
              "7               DC                 89.30\n",
              "23              MN                 89.47\n",
              "46              VT                 89.98\n",
              "29              NE                 89.99\n",
              "5               CO                 90.11\n",
              "12              IA                 90.11\n",
              "48              WI                 90.26\n",
              "26              MT                 90.49\n",
              "34              NY                 90.61\n",
              "30              NH                 90.71\n",
              "31              NJ                 90.85\n",
              "21              ME                 91.43\n",
              "6               CT                 91.59\n",
              "44              UT                 91.62\n",
              "11              HI                 91.67\n",
              "50              WY                 92.10\n",
              "19              MA                 92.40"
            ]
          },
          "execution_count": 82,
          "metadata": {},
          "output_type": "execute_result"
        }
      ],
      "source": [
        "df_pct_completed_hs = df_pct_completed_hs[df_pct_completed_hs['percent_completed_hs'] != '-']\n",
        "df_pct_completed_hs['percent_completed_hs'] = pd.to_numeric(df_pct_completed_hs['percent_completed_hs'])\n",
        "graduation_per_state = df_pct_completed_hs.groupby('Geographic Area',as_index=False).agg({'percent_completed_hs':pd.Series.mean}).sort_values(by='percent_completed_hs',ascending=True)\n",
        "graduation_per_state"
      ]
    },
    {
      "cell_type": "code",
      "execution_count": 83,
      "metadata": {},
      "outputs": [
        {
          "data": {
            "application/vnd.plotly.v1+json": {
              "config": {
                "plotlyServerURL": "https://plot.ly"
              },
              "data": [
                {
                  "alignmentgroup": "True",
                  "hovertemplate": "Geographic Area=%{x}<br>percent_completed_hs=%{marker.color}<extra></extra>",
                  "legendgroup": "",
                  "marker": {
                    "color": [
                      75.69,
                      78.4707182320442,
                      79.0125,
                      79.28964059196618,
                      79.94953789279113,
                      80.30068493150685,
                      80.46711711711714,
                      80.84987341772153,
                      80.98263888888889,
                      81.63116279069767,
                      81.95542971352432,
                      82.34504950495048,
                      82.37012987012986,
                      82.90974289580515,
                      83.24945799457996,
                      83.522265625,
                      84.62738095238095,
                      84.88026981450253,
                      85.16799999999999,
                      85.73781420765027,
                      86.31926470588235,
                      87.71538461538462,
                      87.75390625,
                      87.81525000000002,
                      88.19757673667206,
                      88.23044776119403,
                      88.30454545454543,
                      88.34460016488046,
                      88.42248062015504,
                      88.48344322344322,
                      88.51948051948052,
                      88.82499999999999,
                      89.02339579784213,
                      89.20765895953758,
                      89.3,
                      89.46555924695461,
                      89.97685950413224,
                      89.98786828422877,
                      90.10663716814159,
                      90.1122632103689,
                      90.26396396396397,
                      90.48842975206612,
                      90.61372384937238,
                      90.71134020618557,
                      90.85395948434622,
                      91.43076923076924,
                      91.59166666666667,
                      91.61792452830188,
                      91.66556291390728,
                      92.10053763440861,
                      92.40408163265306
                    ],
                    "coloraxis": "coloraxis",
                    "pattern": {
                      "shape": ""
                    }
                  },
                  "name": "",
                  "offsetgroup": "",
                  "orientation": "v",
                  "showlegend": false,
                  "textposition": "auto",
                  "type": "bar",
                  "x": [
                    "TX",
                    "MS",
                    "GA",
                    "LA",
                    "AR",
                    "AL",
                    "AZ",
                    "SC",
                    "NM",
                    "TN",
                    "CA",
                    "WV",
                    "KY",
                    "OK",
                    "NC",
                    "MO",
                    "AK",
                    "VA",
                    "ID",
                    "FL",
                    "IN",
                    "NV",
                    "SD",
                    "ND",
                    "WA",
                    "KS",
                    "OR",
                    "OH",
                    "MD",
                    "IL",
                    "DE",
                    "RI",
                    "PA",
                    "MI",
                    "DC",
                    "MN",
                    "VT",
                    "NE",
                    "CO",
                    "IA",
                    "WI",
                    "MT",
                    "NY",
                    "NH",
                    "NJ",
                    "ME",
                    "CT",
                    "UT",
                    "HI",
                    "WY",
                    "MA"
                  ],
                  "xaxis": "x",
                  "y": [
                    75.69,
                    78.4707182320442,
                    79.0125,
                    79.28964059196618,
                    79.94953789279113,
                    80.30068493150685,
                    80.46711711711714,
                    80.84987341772153,
                    80.98263888888889,
                    81.63116279069767,
                    81.95542971352432,
                    82.34504950495048,
                    82.37012987012986,
                    82.90974289580515,
                    83.24945799457996,
                    83.522265625,
                    84.62738095238095,
                    84.88026981450253,
                    85.16799999999999,
                    85.73781420765027,
                    86.31926470588235,
                    87.71538461538462,
                    87.75390625,
                    87.81525000000002,
                    88.19757673667206,
                    88.23044776119403,
                    88.30454545454543,
                    88.34460016488046,
                    88.42248062015504,
                    88.48344322344322,
                    88.51948051948052,
                    88.82499999999999,
                    89.02339579784213,
                    89.20765895953758,
                    89.3,
                    89.46555924695461,
                    89.97685950413224,
                    89.98786828422877,
                    90.10663716814159,
                    90.1122632103689,
                    90.26396396396397,
                    90.48842975206612,
                    90.61372384937238,
                    90.71134020618557,
                    90.85395948434622,
                    91.43076923076924,
                    91.59166666666667,
                    91.61792452830188,
                    91.66556291390728,
                    92.10053763440861,
                    92.40408163265306
                  ],
                  "yaxis": "y"
                }
              ],
              "layout": {
                "barmode": "relative",
                "coloraxis": {
                  "colorbar": {
                    "title": {
                      "text": "percent_completed_hs"
                    }
                  },
                  "colorscale": [
                    [
                      0,
                      "rgb(0,0,0)"
                    ],
                    [
                      0.2,
                      "rgb(30,0,100)"
                    ],
                    [
                      0.4,
                      "rgb(120,0,100)"
                    ],
                    [
                      0.6,
                      "rgb(160,90,0)"
                    ],
                    [
                      0.8,
                      "rgb(230,200,0)"
                    ],
                    [
                      1,
                      "rgb(255,250,220)"
                    ]
                  ],
                  "showscale": false
                },
                "legend": {
                  "tracegroupgap": 0
                },
                "template": {
                  "data": {
                    "bar": [
                      {
                        "error_x": {
                          "color": "#2a3f5f"
                        },
                        "error_y": {
                          "color": "#2a3f5f"
                        },
                        "marker": {
                          "line": {
                            "color": "#E5ECF6",
                            "width": 0.5
                          },
                          "pattern": {
                            "fillmode": "overlay",
                            "size": 10,
                            "solidity": 0.2
                          }
                        },
                        "type": "bar"
                      }
                    ],
                    "barpolar": [
                      {
                        "marker": {
                          "line": {
                            "color": "#E5ECF6",
                            "width": 0.5
                          },
                          "pattern": {
                            "fillmode": "overlay",
                            "size": 10,
                            "solidity": 0.2
                          }
                        },
                        "type": "barpolar"
                      }
                    ],
                    "carpet": [
                      {
                        "aaxis": {
                          "endlinecolor": "#2a3f5f",
                          "gridcolor": "white",
                          "linecolor": "white",
                          "minorgridcolor": "white",
                          "startlinecolor": "#2a3f5f"
                        },
                        "baxis": {
                          "endlinecolor": "#2a3f5f",
                          "gridcolor": "white",
                          "linecolor": "white",
                          "minorgridcolor": "white",
                          "startlinecolor": "#2a3f5f"
                        },
                        "type": "carpet"
                      }
                    ],
                    "choropleth": [
                      {
                        "colorbar": {
                          "outlinewidth": 0,
                          "ticks": ""
                        },
                        "type": "choropleth"
                      }
                    ],
                    "contour": [
                      {
                        "colorbar": {
                          "outlinewidth": 0,
                          "ticks": ""
                        },
                        "colorscale": [
                          [
                            0,
                            "#0d0887"
                          ],
                          [
                            0.1111111111111111,
                            "#46039f"
                          ],
                          [
                            0.2222222222222222,
                            "#7201a8"
                          ],
                          [
                            0.3333333333333333,
                            "#9c179e"
                          ],
                          [
                            0.4444444444444444,
                            "#bd3786"
                          ],
                          [
                            0.5555555555555556,
                            "#d8576b"
                          ],
                          [
                            0.6666666666666666,
                            "#ed7953"
                          ],
                          [
                            0.7777777777777778,
                            "#fb9f3a"
                          ],
                          [
                            0.8888888888888888,
                            "#fdca26"
                          ],
                          [
                            1,
                            "#f0f921"
                          ]
                        ],
                        "type": "contour"
                      }
                    ],
                    "contourcarpet": [
                      {
                        "colorbar": {
                          "outlinewidth": 0,
                          "ticks": ""
                        },
                        "type": "contourcarpet"
                      }
                    ],
                    "heatmap": [
                      {
                        "colorbar": {
                          "outlinewidth": 0,
                          "ticks": ""
                        },
                        "colorscale": [
                          [
                            0,
                            "#0d0887"
                          ],
                          [
                            0.1111111111111111,
                            "#46039f"
                          ],
                          [
                            0.2222222222222222,
                            "#7201a8"
                          ],
                          [
                            0.3333333333333333,
                            "#9c179e"
                          ],
                          [
                            0.4444444444444444,
                            "#bd3786"
                          ],
                          [
                            0.5555555555555556,
                            "#d8576b"
                          ],
                          [
                            0.6666666666666666,
                            "#ed7953"
                          ],
                          [
                            0.7777777777777778,
                            "#fb9f3a"
                          ],
                          [
                            0.8888888888888888,
                            "#fdca26"
                          ],
                          [
                            1,
                            "#f0f921"
                          ]
                        ],
                        "type": "heatmap"
                      }
                    ],
                    "heatmapgl": [
                      {
                        "colorbar": {
                          "outlinewidth": 0,
                          "ticks": ""
                        },
                        "colorscale": [
                          [
                            0,
                            "#0d0887"
                          ],
                          [
                            0.1111111111111111,
                            "#46039f"
                          ],
                          [
                            0.2222222222222222,
                            "#7201a8"
                          ],
                          [
                            0.3333333333333333,
                            "#9c179e"
                          ],
                          [
                            0.4444444444444444,
                            "#bd3786"
                          ],
                          [
                            0.5555555555555556,
                            "#d8576b"
                          ],
                          [
                            0.6666666666666666,
                            "#ed7953"
                          ],
                          [
                            0.7777777777777778,
                            "#fb9f3a"
                          ],
                          [
                            0.8888888888888888,
                            "#fdca26"
                          ],
                          [
                            1,
                            "#f0f921"
                          ]
                        ],
                        "type": "heatmapgl"
                      }
                    ],
                    "histogram": [
                      {
                        "marker": {
                          "pattern": {
                            "fillmode": "overlay",
                            "size": 10,
                            "solidity": 0.2
                          }
                        },
                        "type": "histogram"
                      }
                    ],
                    "histogram2d": [
                      {
                        "colorbar": {
                          "outlinewidth": 0,
                          "ticks": ""
                        },
                        "colorscale": [
                          [
                            0,
                            "#0d0887"
                          ],
                          [
                            0.1111111111111111,
                            "#46039f"
                          ],
                          [
                            0.2222222222222222,
                            "#7201a8"
                          ],
                          [
                            0.3333333333333333,
                            "#9c179e"
                          ],
                          [
                            0.4444444444444444,
                            "#bd3786"
                          ],
                          [
                            0.5555555555555556,
                            "#d8576b"
                          ],
                          [
                            0.6666666666666666,
                            "#ed7953"
                          ],
                          [
                            0.7777777777777778,
                            "#fb9f3a"
                          ],
                          [
                            0.8888888888888888,
                            "#fdca26"
                          ],
                          [
                            1,
                            "#f0f921"
                          ]
                        ],
                        "type": "histogram2d"
                      }
                    ],
                    "histogram2dcontour": [
                      {
                        "colorbar": {
                          "outlinewidth": 0,
                          "ticks": ""
                        },
                        "colorscale": [
                          [
                            0,
                            "#0d0887"
                          ],
                          [
                            0.1111111111111111,
                            "#46039f"
                          ],
                          [
                            0.2222222222222222,
                            "#7201a8"
                          ],
                          [
                            0.3333333333333333,
                            "#9c179e"
                          ],
                          [
                            0.4444444444444444,
                            "#bd3786"
                          ],
                          [
                            0.5555555555555556,
                            "#d8576b"
                          ],
                          [
                            0.6666666666666666,
                            "#ed7953"
                          ],
                          [
                            0.7777777777777778,
                            "#fb9f3a"
                          ],
                          [
                            0.8888888888888888,
                            "#fdca26"
                          ],
                          [
                            1,
                            "#f0f921"
                          ]
                        ],
                        "type": "histogram2dcontour"
                      }
                    ],
                    "mesh3d": [
                      {
                        "colorbar": {
                          "outlinewidth": 0,
                          "ticks": ""
                        },
                        "type": "mesh3d"
                      }
                    ],
                    "parcoords": [
                      {
                        "line": {
                          "colorbar": {
                            "outlinewidth": 0,
                            "ticks": ""
                          }
                        },
                        "type": "parcoords"
                      }
                    ],
                    "pie": [
                      {
                        "automargin": true,
                        "type": "pie"
                      }
                    ],
                    "scatter": [
                      {
                        "fillpattern": {
                          "fillmode": "overlay",
                          "size": 10,
                          "solidity": 0.2
                        },
                        "type": "scatter"
                      }
                    ],
                    "scatter3d": [
                      {
                        "line": {
                          "colorbar": {
                            "outlinewidth": 0,
                            "ticks": ""
                          }
                        },
                        "marker": {
                          "colorbar": {
                            "outlinewidth": 0,
                            "ticks": ""
                          }
                        },
                        "type": "scatter3d"
                      }
                    ],
                    "scattercarpet": [
                      {
                        "marker": {
                          "colorbar": {
                            "outlinewidth": 0,
                            "ticks": ""
                          }
                        },
                        "type": "scattercarpet"
                      }
                    ],
                    "scattergeo": [
                      {
                        "marker": {
                          "colorbar": {
                            "outlinewidth": 0,
                            "ticks": ""
                          }
                        },
                        "type": "scattergeo"
                      }
                    ],
                    "scattergl": [
                      {
                        "marker": {
                          "colorbar": {
                            "outlinewidth": 0,
                            "ticks": ""
                          }
                        },
                        "type": "scattergl"
                      }
                    ],
                    "scattermapbox": [
                      {
                        "marker": {
                          "colorbar": {
                            "outlinewidth": 0,
                            "ticks": ""
                          }
                        },
                        "type": "scattermapbox"
                      }
                    ],
                    "scatterpolar": [
                      {
                        "marker": {
                          "colorbar": {
                            "outlinewidth": 0,
                            "ticks": ""
                          }
                        },
                        "type": "scatterpolar"
                      }
                    ],
                    "scatterpolargl": [
                      {
                        "marker": {
                          "colorbar": {
                            "outlinewidth": 0,
                            "ticks": ""
                          }
                        },
                        "type": "scatterpolargl"
                      }
                    ],
                    "scatterternary": [
                      {
                        "marker": {
                          "colorbar": {
                            "outlinewidth": 0,
                            "ticks": ""
                          }
                        },
                        "type": "scatterternary"
                      }
                    ],
                    "surface": [
                      {
                        "colorbar": {
                          "outlinewidth": 0,
                          "ticks": ""
                        },
                        "colorscale": [
                          [
                            0,
                            "#0d0887"
                          ],
                          [
                            0.1111111111111111,
                            "#46039f"
                          ],
                          [
                            0.2222222222222222,
                            "#7201a8"
                          ],
                          [
                            0.3333333333333333,
                            "#9c179e"
                          ],
                          [
                            0.4444444444444444,
                            "#bd3786"
                          ],
                          [
                            0.5555555555555556,
                            "#d8576b"
                          ],
                          [
                            0.6666666666666666,
                            "#ed7953"
                          ],
                          [
                            0.7777777777777778,
                            "#fb9f3a"
                          ],
                          [
                            0.8888888888888888,
                            "#fdca26"
                          ],
                          [
                            1,
                            "#f0f921"
                          ]
                        ],
                        "type": "surface"
                      }
                    ],
                    "table": [
                      {
                        "cells": {
                          "fill": {
                            "color": "#EBF0F8"
                          },
                          "line": {
                            "color": "white"
                          }
                        },
                        "header": {
                          "fill": {
                            "color": "#C8D4E3"
                          },
                          "line": {
                            "color": "white"
                          }
                        },
                        "type": "table"
                      }
                    ]
                  },
                  "layout": {
                    "annotationdefaults": {
                      "arrowcolor": "#2a3f5f",
                      "arrowhead": 0,
                      "arrowwidth": 1
                    },
                    "autotypenumbers": "strict",
                    "coloraxis": {
                      "colorbar": {
                        "outlinewidth": 0,
                        "ticks": ""
                      }
                    },
                    "colorscale": {
                      "diverging": [
                        [
                          0,
                          "#8e0152"
                        ],
                        [
                          0.1,
                          "#c51b7d"
                        ],
                        [
                          0.2,
                          "#de77ae"
                        ],
                        [
                          0.3,
                          "#f1b6da"
                        ],
                        [
                          0.4,
                          "#fde0ef"
                        ],
                        [
                          0.5,
                          "#f7f7f7"
                        ],
                        [
                          0.6,
                          "#e6f5d0"
                        ],
                        [
                          0.7,
                          "#b8e186"
                        ],
                        [
                          0.8,
                          "#7fbc41"
                        ],
                        [
                          0.9,
                          "#4d9221"
                        ],
                        [
                          1,
                          "#276419"
                        ]
                      ],
                      "sequential": [
                        [
                          0,
                          "#0d0887"
                        ],
                        [
                          0.1111111111111111,
                          "#46039f"
                        ],
                        [
                          0.2222222222222222,
                          "#7201a8"
                        ],
                        [
                          0.3333333333333333,
                          "#9c179e"
                        ],
                        [
                          0.4444444444444444,
                          "#bd3786"
                        ],
                        [
                          0.5555555555555556,
                          "#d8576b"
                        ],
                        [
                          0.6666666666666666,
                          "#ed7953"
                        ],
                        [
                          0.7777777777777778,
                          "#fb9f3a"
                        ],
                        [
                          0.8888888888888888,
                          "#fdca26"
                        ],
                        [
                          1,
                          "#f0f921"
                        ]
                      ],
                      "sequentialminus": [
                        [
                          0,
                          "#0d0887"
                        ],
                        [
                          0.1111111111111111,
                          "#46039f"
                        ],
                        [
                          0.2222222222222222,
                          "#7201a8"
                        ],
                        [
                          0.3333333333333333,
                          "#9c179e"
                        ],
                        [
                          0.4444444444444444,
                          "#bd3786"
                        ],
                        [
                          0.5555555555555556,
                          "#d8576b"
                        ],
                        [
                          0.6666666666666666,
                          "#ed7953"
                        ],
                        [
                          0.7777777777777778,
                          "#fb9f3a"
                        ],
                        [
                          0.8888888888888888,
                          "#fdca26"
                        ],
                        [
                          1,
                          "#f0f921"
                        ]
                      ]
                    },
                    "colorway": [
                      "#636efa",
                      "#EF553B",
                      "#00cc96",
                      "#ab63fa",
                      "#FFA15A",
                      "#19d3f3",
                      "#FF6692",
                      "#B6E880",
                      "#FF97FF",
                      "#FECB52"
                    ],
                    "font": {
                      "color": "#2a3f5f"
                    },
                    "geo": {
                      "bgcolor": "white",
                      "lakecolor": "white",
                      "landcolor": "#E5ECF6",
                      "showlakes": true,
                      "showland": true,
                      "subunitcolor": "white"
                    },
                    "hoverlabel": {
                      "align": "left"
                    },
                    "hovermode": "closest",
                    "mapbox": {
                      "style": "light"
                    },
                    "paper_bgcolor": "white",
                    "plot_bgcolor": "#E5ECF6",
                    "polar": {
                      "angularaxis": {
                        "gridcolor": "white",
                        "linecolor": "white",
                        "ticks": ""
                      },
                      "bgcolor": "#E5ECF6",
                      "radialaxis": {
                        "gridcolor": "white",
                        "linecolor": "white",
                        "ticks": ""
                      }
                    },
                    "scene": {
                      "xaxis": {
                        "backgroundcolor": "#E5ECF6",
                        "gridcolor": "white",
                        "gridwidth": 2,
                        "linecolor": "white",
                        "showbackground": true,
                        "ticks": "",
                        "zerolinecolor": "white"
                      },
                      "yaxis": {
                        "backgroundcolor": "#E5ECF6",
                        "gridcolor": "white",
                        "gridwidth": 2,
                        "linecolor": "white",
                        "showbackground": true,
                        "ticks": "",
                        "zerolinecolor": "white"
                      },
                      "zaxis": {
                        "backgroundcolor": "#E5ECF6",
                        "gridcolor": "white",
                        "gridwidth": 2,
                        "linecolor": "white",
                        "showbackground": true,
                        "ticks": "",
                        "zerolinecolor": "white"
                      }
                    },
                    "shapedefaults": {
                      "line": {
                        "color": "#2a3f5f"
                      }
                    },
                    "ternary": {
                      "aaxis": {
                        "gridcolor": "white",
                        "linecolor": "white",
                        "ticks": ""
                      },
                      "baxis": {
                        "gridcolor": "white",
                        "linecolor": "white",
                        "ticks": ""
                      },
                      "bgcolor": "#E5ECF6",
                      "caxis": {
                        "gridcolor": "white",
                        "linecolor": "white",
                        "ticks": ""
                      }
                    },
                    "title": {
                      "x": 0.05
                    },
                    "xaxis": {
                      "automargin": true,
                      "gridcolor": "white",
                      "linecolor": "white",
                      "ticks": "",
                      "title": {
                        "standoff": 15
                      },
                      "zerolinecolor": "white",
                      "zerolinewidth": 2
                    },
                    "yaxis": {
                      "automargin": true,
                      "gridcolor": "white",
                      "linecolor": "white",
                      "ticks": "",
                      "title": {
                        "standoff": 15
                      },
                      "zerolinecolor": "white",
                      "zerolinewidth": 2
                    }
                  }
                },
                "title": {
                  "text": "High school graduation rate"
                },
                "xaxis": {
                  "anchor": "y",
                  "domain": [
                    0,
                    1
                  ],
                  "title": {
                    "text": "State"
                  }
                },
                "yaxis": {
                  "anchor": "x",
                  "domain": [
                    0,
                    1
                  ],
                  "tickfont": {
                    "size": 10
                  },
                  "title": {
                    "text": "Graduation Rate"
                  }
                }
              }
            }
          },
          "metadata": {},
          "output_type": "display_data"
        }
      ],
      "source": [
        "bar= px.bar(graduation_per_state, \n",
        "             x=graduation_per_state['Geographic Area'], \n",
        "             y=graduation_per_state['percent_completed_hs'],  \n",
        "             title='High school graduation rate',\n",
        "             color=\"percent_completed_hs\",\n",
        "             color_continuous_scale='Electric'\n",
        "             )\n",
        "bar.update_layout(coloraxis_showscale=False, xaxis_title = \"State\", yaxis_title='Graduation Rate')\n",
        "bar.update_layout(yaxis=dict(tickfont=dict(size=10)))\n",
        "bar.show()"
      ]
    },
    {
      "cell_type": "markdown",
      "metadata": {
        "id": "ENGTEmPQ0Rvt"
      },
      "source": [
        "# Visualise the Relationship between Poverty Rates and High School Graduation Rates\n",
        "\n",
        "#### Create a line chart with two y-axes to show if the rations of poverty and high school graduation move together.  "
      ]
    },
    {
      "cell_type": "code",
      "execution_count": 84,
      "metadata": {
        "id": "MkNk5U8v0JPB"
      },
      "outputs": [
        {
          "data": {
            "text/html": [
              "<div>\n",
              "<style scoped>\n",
              "    .dataframe tbody tr th:only-of-type {\n",
              "        vertical-align: middle;\n",
              "    }\n",
              "\n",
              "    .dataframe tbody tr th {\n",
              "        vertical-align: top;\n",
              "    }\n",
              "\n",
              "    .dataframe thead th {\n",
              "        text-align: right;\n",
              "    }\n",
              "</style>\n",
              "<table border=\"1\" class=\"dataframe\">\n",
              "  <thead>\n",
              "    <tr style=\"text-align: right;\">\n",
              "      <th></th>\n",
              "      <th>Geographic Area</th>\n",
              "      <th>poverty_rate</th>\n",
              "      <th>percent_completed_hs</th>\n",
              "    </tr>\n",
              "  </thead>\n",
              "  <tbody>\n",
              "    <tr>\n",
              "      <th>0</th>\n",
              "      <td>MS</td>\n",
              "      <td>26.88</td>\n",
              "      <td>78.47</td>\n",
              "    </tr>\n",
              "    <tr>\n",
              "      <th>1</th>\n",
              "      <td>AZ</td>\n",
              "      <td>25.67</td>\n",
              "      <td>80.47</td>\n",
              "    </tr>\n",
              "    <tr>\n",
              "      <th>2</th>\n",
              "      <td>GA</td>\n",
              "      <td>23.78</td>\n",
              "      <td>79.01</td>\n",
              "    </tr>\n",
              "    <tr>\n",
              "      <th>3</th>\n",
              "      <td>NM</td>\n",
              "      <td>23.08</td>\n",
              "      <td>80.98</td>\n",
              "    </tr>\n",
              "    <tr>\n",
              "      <th>4</th>\n",
              "      <td>AR</td>\n",
              "      <td>22.96</td>\n",
              "      <td>79.95</td>\n",
              "    </tr>\n",
              "    <tr>\n",
              "      <th>5</th>\n",
              "      <td>LA</td>\n",
              "      <td>22.34</td>\n",
              "      <td>79.29</td>\n",
              "    </tr>\n",
              "    <tr>\n",
              "      <th>6</th>\n",
              "      <td>SC</td>\n",
              "      <td>22.16</td>\n",
              "      <td>80.85</td>\n",
              "    </tr>\n",
              "    <tr>\n",
              "      <th>7</th>\n",
              "      <td>WV</td>\n",
              "      <td>21.13</td>\n",
              "      <td>82.35</td>\n",
              "    </tr>\n",
              "    <tr>\n",
              "      <th>8</th>\n",
              "      <td>OK</td>\n",
              "      <td>20.66</td>\n",
              "      <td>82.91</td>\n",
              "    </tr>\n",
              "    <tr>\n",
              "      <th>9</th>\n",
              "      <td>AL</td>\n",
              "      <td>20.65</td>\n",
              "      <td>80.30</td>\n",
              "    </tr>\n",
              "    <tr>\n",
              "      <th>10</th>\n",
              "      <td>MO</td>\n",
              "      <td>20.11</td>\n",
              "      <td>83.52</td>\n",
              "    </tr>\n",
              "    <tr>\n",
              "      <th>11</th>\n",
              "      <td>KY</td>\n",
              "      <td>20.08</td>\n",
              "      <td>82.37</td>\n",
              "    </tr>\n",
              "    <tr>\n",
              "      <th>12</th>\n",
              "      <td>TX</td>\n",
              "      <td>19.92</td>\n",
              "      <td>75.69</td>\n",
              "    </tr>\n",
              "    <tr>\n",
              "      <th>13</th>\n",
              "      <td>TN</td>\n",
              "      <td>19.89</td>\n",
              "      <td>81.63</td>\n",
              "    </tr>\n",
              "    <tr>\n",
              "      <th>14</th>\n",
              "      <td>AK</td>\n",
              "      <td>19.85</td>\n",
              "      <td>84.63</td>\n",
              "    </tr>\n",
              "    <tr>\n",
              "      <th>15</th>\n",
              "      <td>NC</td>\n",
              "      <td>19.75</td>\n",
              "      <td>83.25</td>\n",
              "    </tr>\n",
              "    <tr>\n",
              "      <th>16</th>\n",
              "      <td>ID</td>\n",
              "      <td>18.24</td>\n",
              "      <td>85.17</td>\n",
              "    </tr>\n",
              "    <tr>\n",
              "      <th>17</th>\n",
              "      <td>DC</td>\n",
              "      <td>18.00</td>\n",
              "      <td>89.30</td>\n",
              "    </tr>\n",
              "    <tr>\n",
              "      <th>18</th>\n",
              "      <td>MI</td>\n",
              "      <td>17.90</td>\n",
              "      <td>89.21</td>\n",
              "    </tr>\n",
              "    <tr>\n",
              "      <th>19</th>\n",
              "      <td>FL</td>\n",
              "      <td>17.57</td>\n",
              "      <td>85.74</td>\n",
              "    </tr>\n",
              "    <tr>\n",
              "      <th>20</th>\n",
              "      <td>CA</td>\n",
              "      <td>17.12</td>\n",
              "      <td>81.96</td>\n",
              "    </tr>\n",
              "    <tr>\n",
              "      <th>21</th>\n",
              "      <td>ME</td>\n",
              "      <td>16.89</td>\n",
              "      <td>91.43</td>\n",
              "    </tr>\n",
              "    <tr>\n",
              "      <th>22</th>\n",
              "      <td>OR</td>\n",
              "      <td>16.52</td>\n",
              "      <td>88.30</td>\n",
              "    </tr>\n",
              "    <tr>\n",
              "      <th>23</th>\n",
              "      <td>MT</td>\n",
              "      <td>16.51</td>\n",
              "      <td>90.49</td>\n",
              "    </tr>\n",
              "    <tr>\n",
              "      <th>24</th>\n",
              "      <td>SD</td>\n",
              "      <td>16.03</td>\n",
              "      <td>87.75</td>\n",
              "    </tr>\n",
              "    <tr>\n",
              "      <th>25</th>\n",
              "      <td>IN</td>\n",
              "      <td>15.50</td>\n",
              "      <td>86.32</td>\n",
              "    </tr>\n",
              "    <tr>\n",
              "      <th>26</th>\n",
              "      <td>WA</td>\n",
              "      <td>15.02</td>\n",
              "      <td>88.20</td>\n",
              "    </tr>\n",
              "    <tr>\n",
              "      <th>27</th>\n",
              "      <td>OH</td>\n",
              "      <td>14.85</td>\n",
              "      <td>88.34</td>\n",
              "    </tr>\n",
              "    <tr>\n",
              "      <th>28</th>\n",
              "      <td>KS</td>\n",
              "      <td>14.76</td>\n",
              "      <td>88.23</td>\n",
              "    </tr>\n",
              "    <tr>\n",
              "      <th>29</th>\n",
              "      <td>VA</td>\n",
              "      <td>14.59</td>\n",
              "      <td>84.88</td>\n",
              "    </tr>\n",
              "    <tr>\n",
              "      <th>30</th>\n",
              "      <td>IL</td>\n",
              "      <td>13.88</td>\n",
              "      <td>88.48</td>\n",
              "    </tr>\n",
              "    <tr>\n",
              "      <th>31</th>\n",
              "      <td>VT</td>\n",
              "      <td>13.79</td>\n",
              "      <td>89.98</td>\n",
              "    </tr>\n",
              "    <tr>\n",
              "      <th>32</th>\n",
              "      <td>MN</td>\n",
              "      <td>13.75</td>\n",
              "      <td>89.47</td>\n",
              "    </tr>\n",
              "    <tr>\n",
              "      <th>33</th>\n",
              "      <td>HI</td>\n",
              "      <td>13.40</td>\n",
              "      <td>91.67</td>\n",
              "    </tr>\n",
              "    <tr>\n",
              "      <th>34</th>\n",
              "      <td>CO</td>\n",
              "      <td>13.36</td>\n",
              "      <td>90.11</td>\n",
              "    </tr>\n",
              "    <tr>\n",
              "      <th>35</th>\n",
              "      <td>NE</td>\n",
              "      <td>12.98</td>\n",
              "      <td>89.99</td>\n",
              "    </tr>\n",
              "    <tr>\n",
              "      <th>36</th>\n",
              "      <td>WI</td>\n",
              "      <td>12.86</td>\n",
              "      <td>90.26</td>\n",
              "    </tr>\n",
              "    <tr>\n",
              "      <th>37</th>\n",
              "      <td>NH</td>\n",
              "      <td>12.66</td>\n",
              "      <td>90.71</td>\n",
              "    </tr>\n",
              "    <tr>\n",
              "      <th>38</th>\n",
              "      <td>DE</td>\n",
              "      <td>12.56</td>\n",
              "      <td>88.52</td>\n",
              "    </tr>\n",
              "    <tr>\n",
              "      <th>39</th>\n",
              "      <td>PA</td>\n",
              "      <td>12.52</td>\n",
              "      <td>89.02</td>\n",
              "    </tr>\n",
              "    <tr>\n",
              "      <th>40</th>\n",
              "      <td>NV</td>\n",
              "      <td>12.47</td>\n",
              "      <td>87.72</td>\n",
              "    </tr>\n",
              "    <tr>\n",
              "      <th>41</th>\n",
              "      <td>IA</td>\n",
              "      <td>12.29</td>\n",
              "      <td>90.11</td>\n",
              "    </tr>\n",
              "    <tr>\n",
              "      <th>42</th>\n",
              "      <td>ND</td>\n",
              "      <td>12.16</td>\n",
              "      <td>87.82</td>\n",
              "    </tr>\n",
              "    <tr>\n",
              "      <th>43</th>\n",
              "      <td>UT</td>\n",
              "      <td>11.98</td>\n",
              "      <td>91.62</td>\n",
              "    </tr>\n",
              "    <tr>\n",
              "      <th>44</th>\n",
              "      <td>NY</td>\n",
              "      <td>11.67</td>\n",
              "      <td>90.61</td>\n",
              "    </tr>\n",
              "    <tr>\n",
              "      <th>45</th>\n",
              "      <td>RI</td>\n",
              "      <td>10.37</td>\n",
              "      <td>88.82</td>\n",
              "    </tr>\n",
              "    <tr>\n",
              "      <th>46</th>\n",
              "      <td>MD</td>\n",
              "      <td>10.31</td>\n",
              "      <td>88.42</td>\n",
              "    </tr>\n",
              "    <tr>\n",
              "      <th>47</th>\n",
              "      <td>WY</td>\n",
              "      <td>9.89</td>\n",
              "      <td>92.10</td>\n",
              "    </tr>\n",
              "    <tr>\n",
              "      <th>48</th>\n",
              "      <td>MA</td>\n",
              "      <td>9.59</td>\n",
              "      <td>92.40</td>\n",
              "    </tr>\n",
              "    <tr>\n",
              "      <th>49</th>\n",
              "      <td>CT</td>\n",
              "      <td>9.14</td>\n",
              "      <td>91.59</td>\n",
              "    </tr>\n",
              "    <tr>\n",
              "      <th>50</th>\n",
              "      <td>NJ</td>\n",
              "      <td>8.19</td>\n",
              "      <td>90.85</td>\n",
              "    </tr>\n",
              "  </tbody>\n",
              "</table>\n",
              "</div>"
            ],
            "text/plain": [
              "   Geographic Area  poverty_rate  percent_completed_hs\n",
              "0               MS         26.88                 78.47\n",
              "1               AZ         25.67                 80.47\n",
              "2               GA         23.78                 79.01\n",
              "3               NM         23.08                 80.98\n",
              "4               AR         22.96                 79.95\n",
              "5               LA         22.34                 79.29\n",
              "6               SC         22.16                 80.85\n",
              "7               WV         21.13                 82.35\n",
              "8               OK         20.66                 82.91\n",
              "9               AL         20.65                 80.30\n",
              "10              MO         20.11                 83.52\n",
              "11              KY         20.08                 82.37\n",
              "12              TX         19.92                 75.69\n",
              "13              TN         19.89                 81.63\n",
              "14              AK         19.85                 84.63\n",
              "15              NC         19.75                 83.25\n",
              "16              ID         18.24                 85.17\n",
              "17              DC         18.00                 89.30\n",
              "18              MI         17.90                 89.21\n",
              "19              FL         17.57                 85.74\n",
              "20              CA         17.12                 81.96\n",
              "21              ME         16.89                 91.43\n",
              "22              OR         16.52                 88.30\n",
              "23              MT         16.51                 90.49\n",
              "24              SD         16.03                 87.75\n",
              "25              IN         15.50                 86.32\n",
              "26              WA         15.02                 88.20\n",
              "27              OH         14.85                 88.34\n",
              "28              KS         14.76                 88.23\n",
              "29              VA         14.59                 84.88\n",
              "30              IL         13.88                 88.48\n",
              "31              VT         13.79                 89.98\n",
              "32              MN         13.75                 89.47\n",
              "33              HI         13.40                 91.67\n",
              "34              CO         13.36                 90.11\n",
              "35              NE         12.98                 89.99\n",
              "36              WI         12.86                 90.26\n",
              "37              NH         12.66                 90.71\n",
              "38              DE         12.56                 88.52\n",
              "39              PA         12.52                 89.02\n",
              "40              NV         12.47                 87.72\n",
              "41              IA         12.29                 90.11\n",
              "42              ND         12.16                 87.82\n",
              "43              UT         11.98                 91.62\n",
              "44              NY         11.67                 90.61\n",
              "45              RI         10.37                 88.82\n",
              "46              MD         10.31                 88.42\n",
              "47              WY          9.89                 92.10\n",
              "48              MA          9.59                 92.40\n",
              "49              CT          9.14                 91.59\n",
              "50              NJ          8.19                 90.85"
            ]
          },
          "execution_count": 84,
          "metadata": {},
          "output_type": "execute_result"
        }
      ],
      "source": [
        "#They both have the same \"Geographic Area column \"\n",
        "#poverty_per_state graduation_per_state\n",
        "poverty_highschool = poverty_per_state.merge(graduation_per_state, on='Geographic Area')\n",
        "poverty_highschool\n"
      ]
    },
    {
      "cell_type": "code",
      "execution_count": 87,
      "metadata": {
        "id": "urRMqQG_0Nmo"
      },
      "outputs": [
        {
          "data": {
            "image/png": "[encoded data removed]",
            "text/plain": [
              "<Figure size 1400x800 with 2 Axes>"
            ]
          },
          "metadata": {},
          "output_type": "display_data"
        }
      ],
      "source": [
        "# create a figure with 2 y-axes\n",
        "fig, ax1 = plt.subplots(figsize=(14,8))\n",
        "ax2 = ax1.twinx()\n",
        "\n",
        "# plot the poverty rate on the first y-axis\n",
        "ax1.plot(poverty_per_state['Geographic Area'], poverty_per_state['poverty_rate'], color='blue', label='Poverty Rate')\n",
        "ax1.set_xlabel('State')\n",
        "ax1.set_ylabel('Poverty Rate')\n",
        "\n",
        "# plot the graduation rate on the second y-axis\n",
        "ax2.plot(graduation_per_state['Geographic Area'], graduation_per_state['percent_completed_hs'], color='green', label='Graduation Rate')\n",
        "ax2.set_ylabel('Graduation Rate')\n",
        "\n",
        "plt.xticks(rotation=90)\n",
        "# add a legend\n",
        "plt.legend()\n",
        "\n",
        "# show the chart\n",
        "plt.show()\n"
      ]
    },
    {
      "cell_type": "markdown",
      "metadata": {
        "id": "Zavx_8PL1Jy9"
      },
      "source": [
        "#### Now use a Seaborn .jointplot() with a Kernel Density Estimate (KDE) and/or scatter plot to visualise the same relationship"
      ]
    },
    {
      "cell_type": "code",
      "execution_count": 90,
      "metadata": {
        "id": "u77CHfdX0pjW"
      },
      "outputs": [
        {
          "data": {
            "image/png": "[encoded data removed]",
            "text/plain": [
              "<Figure size 600x600 with 3 Axes>"
            ]
          },
          "metadata": {},
          "output_type": "display_data"
        }
      ],
      "source": [
        "sns.jointplot(x='poverty_rate', y='percent_completed_hs', data=poverty_highschool, kind='scatter')\n",
        "plt.show()"
      ]
    },
    {
      "cell_type": "code",
      "execution_count": 91,
      "metadata": {
        "id": "CYy89o-u1zu0"
      },
      "outputs": [
        {
          "data": {
            "image/png": "[encoded data removed]",
            "text/plain": [
              "<Figure size 600x600 with 3 Axes>"
            ]
          },
          "metadata": {},
          "output_type": "display_data"
        }
      ],
      "source": [
        "sns.jointplot(x='poverty_rate', y='percent_completed_hs', data=poverty_highschool, kind='kde')\n",
        "plt.show()"
      ]
    },
    {
      "cell_type": "markdown",
      "metadata": {
        "id": "PXNFQmHl10Fx"
      },
      "source": [
        "#### Seaborn's `.lmplot()` or `.regplot()` to show a linear regression between the poverty ratio and the high school graduation ratio. "
      ]
    },
    {
      "cell_type": "code",
      "execution_count": 92,
      "metadata": {
        "id": "F1xrjFgT1znI"
      },
      "outputs": [
        {
          "data": {
            "image/png": "[encoded data removed]",
            "text/plain": [
              "<Figure size 640x480 with 1 Axes>"
            ]
          },
          "metadata": {},
          "output_type": "display_data"
        }
      ],
      "source": [
        "sns.regplot(x='poverty_rate', y='percent_completed_hs', data=poverty_highschool)\n",
        "plt.show()"
      ]
    },
    {
      "cell_type": "code",
      "execution_count": 93,
      "metadata": {},
      "outputs": [
        {
          "data": {
            "image/png": "[encoded data removed]",
            "text/plain": [
              "<Figure size 500x500 with 1 Axes>"
            ]
          },
          "metadata": {},
          "output_type": "display_data"
        }
      ],
      "source": [
        "sns.lmplot(x='poverty_rate', y='percent_completed_hs', data=poverty_highschool)\n",
        "plt.show()"
      ]
    },
    {
      "cell_type": "markdown",
      "metadata": {
        "id": "QJTbZZKg0p6i"
      },
      "source": [
        "# Create a Bar Chart with Subsections Showing the Racial Makeup of Each US State\n",
        "\n",
        "Visualise the share of the white, black, hispanic, asian and native american population in each US State using a bar chart with sub sections. "
      ]
    },
    {
      "cell_type": "code",
      "execution_count": 95,
      "metadata": {
        "id": "YQbXb6Ex09D9"
      },
      "outputs": [
        {
          "data": {
            "text/html": [
              "<div>\n",
              "<style scoped>\n",
              "    .dataframe tbody tr th:only-of-type {\n",
              "        vertical-align: middle;\n",
              "    }\n",
              "\n",
              "    .dataframe tbody tr th {\n",
              "        vertical-align: top;\n",
              "    }\n",
              "\n",
              "    .dataframe thead th {\n",
              "        text-align: right;\n",
              "    }\n",
              "</style>\n",
              "<table border=\"1\" class=\"dataframe\">\n",
              "  <thead>\n",
              "    <tr style=\"text-align: right;\">\n",
              "      <th></th>\n",
              "      <th>Geographic area</th>\n",
              "      <th>share_white</th>\n",
              "      <th>share_black</th>\n",
              "      <th>share_native_american</th>\n",
              "      <th>share_asian</th>\n",
              "      <th>share_hispanic</th>\n",
              "    </tr>\n",
              "  </thead>\n",
              "  <tbody>\n",
              "    <tr>\n",
              "      <th>0</th>\n",
              "      <td>AK</td>\n",
              "      <td>45.65</td>\n",
              "      <td>0.57</td>\n",
              "      <td>45.86</td>\n",
              "      <td>1.39</td>\n",
              "      <td>2.15</td>\n",
              "    </tr>\n",
              "    <tr>\n",
              "      <th>1</th>\n",
              "      <td>AL</td>\n",
              "      <td>72.51</td>\n",
              "      <td>23.32</td>\n",
              "      <td>0.66</td>\n",
              "      <td>0.48</td>\n",
              "      <td>2.98</td>\n",
              "    </tr>\n",
              "    <tr>\n",
              "      <th>2</th>\n",
              "      <td>AR</td>\n",
              "      <td>78.45</td>\n",
              "      <td>16.30</td>\n",
              "      <td>0.76</td>\n",
              "      <td>0.48</td>\n",
              "      <td>4.27</td>\n",
              "    </tr>\n",
              "    <tr>\n",
              "      <th>3</th>\n",
              "      <td>AZ</td>\n",
              "      <td>59.93</td>\n",
              "      <td>0.95</td>\n",
              "      <td>28.59</td>\n",
              "      <td>0.73</td>\n",
              "      <td>20.14</td>\n",
              "    </tr>\n",
              "    <tr>\n",
              "      <th>4</th>\n",
              "      <td>CA</td>\n",
              "      <td>71.87</td>\n",
              "      <td>2.69</td>\n",
              "      <td>1.72</td>\n",
              "      <td>5.57</td>\n",
              "      <td>29.65</td>\n",
              "    </tr>\n",
              "    <tr>\n",
              "      <th>5</th>\n",
              "      <td>CO</td>\n",
              "      <td>87.77</td>\n",
              "      <td>0.92</td>\n",
              "      <td>1.62</td>\n",
              "      <td>1.15</td>\n",
              "      <td>17.90</td>\n",
              "    </tr>\n",
              "    <tr>\n",
              "      <th>6</th>\n",
              "      <td>CT</td>\n",
              "      <td>86.11</td>\n",
              "      <td>4.99</td>\n",
              "      <td>0.66</td>\n",
              "      <td>2.99</td>\n",
              "      <td>7.98</td>\n",
              "    </tr>\n",
              "    <tr>\n",
              "      <th>7</th>\n",
              "      <td>DC</td>\n",
              "      <td>38.50</td>\n",
              "      <td>50.70</td>\n",
              "      <td>0.30</td>\n",
              "      <td>3.50</td>\n",
              "      <td>9.10</td>\n",
              "    </tr>\n",
              "    <tr>\n",
              "      <th>8</th>\n",
              "      <td>DE</td>\n",
              "      <td>76.25</td>\n",
              "      <td>15.39</td>\n",
              "      <td>0.52</td>\n",
              "      <td>2.00</td>\n",
              "      <td>7.42</td>\n",
              "    </tr>\n",
              "    <tr>\n",
              "      <th>9</th>\n",
              "      <td>FL</td>\n",
              "      <td>78.67</td>\n",
              "      <td>13.37</td>\n",
              "      <td>0.46</td>\n",
              "      <td>1.62</td>\n",
              "      <td>16.53</td>\n",
              "    </tr>\n",
              "    <tr>\n",
              "      <th>10</th>\n",
              "      <td>GA</td>\n",
              "      <td>62.59</td>\n",
              "      <td>30.63</td>\n",
              "      <td>0.30</td>\n",
              "      <td>1.49</td>\n",
              "      <td>6.42</td>\n",
              "    </tr>\n",
              "    <tr>\n",
              "      <th>11</th>\n",
              "      <td>HI</td>\n",
              "      <td>33.37</td>\n",
              "      <td>1.07</td>\n",
              "      <td>0.39</td>\n",
              "      <td>25.65</td>\n",
              "      <td>10.36</td>\n",
              "    </tr>\n",
              "    <tr>\n",
              "      <th>12</th>\n",
              "      <td>IA</td>\n",
              "      <td>96.71</td>\n",
              "      <td>0.56</td>\n",
              "      <td>0.27</td>\n",
              "      <td>0.40</td>\n",
              "      <td>2.82</td>\n",
              "    </tr>\n",
              "    <tr>\n",
              "      <th>13</th>\n",
              "      <td>ID</td>\n",
              "      <td>88.82</td>\n",
              "      <td>0.30</td>\n",
              "      <td>2.52</td>\n",
              "      <td>0.49</td>\n",
              "      <td>10.70</td>\n",
              "    </tr>\n",
              "    <tr>\n",
              "      <th>14</th>\n",
              "      <td>IL</td>\n",
              "      <td>90.36</td>\n",
              "      <td>4.70</td>\n",
              "      <td>0.26</td>\n",
              "      <td>1.34</td>\n",
              "      <td>5.17</td>\n",
              "    </tr>\n",
              "    <tr>\n",
              "      <th>15</th>\n",
              "      <td>IN</td>\n",
              "      <td>94.82</td>\n",
              "      <td>1.69</td>\n",
              "      <td>0.28</td>\n",
              "      <td>0.59</td>\n",
              "      <td>3.32</td>\n",
              "    </tr>\n",
              "    <tr>\n",
              "      <th>16</th>\n",
              "      <td>KS</td>\n",
              "      <td>92.96</td>\n",
              "      <td>0.96</td>\n",
              "      <td>1.87</td>\n",
              "      <td>0.43</td>\n",
              "      <td>5.07</td>\n",
              "    </tr>\n",
              "    <tr>\n",
              "      <th>17</th>\n",
              "      <td>KY</td>\n",
              "      <td>92.23</td>\n",
              "      <td>4.42</td>\n",
              "      <td>0.21</td>\n",
              "      <td>0.71</td>\n",
              "      <td>2.23</td>\n",
              "    </tr>\n",
              "    <tr>\n",
              "      <th>18</th>\n",
              "      <td>LA</td>\n",
              "      <td>64.81</td>\n",
              "      <td>30.78</td>\n",
              "      <td>0.96</td>\n",
              "      <td>0.79</td>\n",
              "      <td>2.98</td>\n",
              "    </tr>\n",
              "    <tr>\n",
              "      <th>19</th>\n",
              "      <td>MA</td>\n",
              "      <td>89.67</td>\n",
              "      <td>2.80</td>\n",
              "      <td>0.27</td>\n",
              "      <td>2.85</td>\n",
              "      <td>4.95</td>\n",
              "    </tr>\n",
              "    <tr>\n",
              "      <th>20</th>\n",
              "      <td>MD</td>\n",
              "      <td>72.12</td>\n",
              "      <td>19.46</td>\n",
              "      <td>0.34</td>\n",
              "      <td>2.98</td>\n",
              "      <td>5.93</td>\n",
              "    </tr>\n",
              "    <tr>\n",
              "      <th>21</th>\n",
              "      <td>ME</td>\n",
              "      <td>95.69</td>\n",
              "      <td>0.82</td>\n",
              "      <td>0.55</td>\n",
              "      <td>1.03</td>\n",
              "      <td>1.31</td>\n",
              "    </tr>\n",
              "    <tr>\n",
              "      <th>22</th>\n",
              "      <td>MI</td>\n",
              "      <td>90.67</td>\n",
              "      <td>4.12</td>\n",
              "      <td>1.08</td>\n",
              "      <td>0.95</td>\n",
              "      <td>3.54</td>\n",
              "    </tr>\n",
              "    <tr>\n",
              "      <th>23</th>\n",
              "      <td>MN</td>\n",
              "      <td>91.80</td>\n",
              "      <td>1.00</td>\n",
              "      <td>3.36</td>\n",
              "      <td>1.03</td>\n",
              "      <td>3.15</td>\n",
              "    </tr>\n",
              "    <tr>\n",
              "      <th>24</th>\n",
              "      <td>MO</td>\n",
              "      <td>90.44</td>\n",
              "      <td>5.88</td>\n",
              "      <td>0.54</td>\n",
              "      <td>0.55</td>\n",
              "      <td>2.36</td>\n",
              "    </tr>\n",
              "    <tr>\n",
              "      <th>25</th>\n",
              "      <td>MS</td>\n",
              "      <td>53.80</td>\n",
              "      <td>41.83</td>\n",
              "      <td>1.61</td>\n",
              "      <td>0.55</td>\n",
              "      <td>2.32</td>\n",
              "    </tr>\n",
              "    <tr>\n",
              "      <th>26</th>\n",
              "      <td>MT</td>\n",
              "      <td>84.48</td>\n",
              "      <td>0.23</td>\n",
              "      <td>11.87</td>\n",
              "      <td>0.32</td>\n",
              "      <td>2.19</td>\n",
              "    </tr>\n",
              "    <tr>\n",
              "      <th>27</th>\n",
              "      <td>NC</td>\n",
              "      <td>71.52</td>\n",
              "      <td>20.40</td>\n",
              "      <td>1.79</td>\n",
              "      <td>0.93</td>\n",
              "      <td>6.41</td>\n",
              "    </tr>\n",
              "    <tr>\n",
              "      <th>28</th>\n",
              "      <td>ND</td>\n",
              "      <td>92.29</td>\n",
              "      <td>0.36</td>\n",
              "      <td>5.33</td>\n",
              "      <td>0.29</td>\n",
              "      <td>1.82</td>\n",
              "    </tr>\n",
              "    <tr>\n",
              "      <th>29</th>\n",
              "      <td>NE</td>\n",
              "      <td>94.72</td>\n",
              "      <td>0.42</td>\n",
              "      <td>1.56</td>\n",
              "      <td>0.29</td>\n",
              "      <td>4.07</td>\n",
              "    </tr>\n",
              "    <tr>\n",
              "      <th>30</th>\n",
              "      <td>NH</td>\n",
              "      <td>95.68</td>\n",
              "      <td>0.72</td>\n",
              "      <td>0.29</td>\n",
              "      <td>1.34</td>\n",
              "      <td>1.74</td>\n",
              "    </tr>\n",
              "    <tr>\n",
              "      <th>31</th>\n",
              "      <td>NJ</td>\n",
              "      <td>80.89</td>\n",
              "      <td>6.98</td>\n",
              "      <td>0.26</td>\n",
              "      <td>5.94</td>\n",
              "      <td>11.12</td>\n",
              "    </tr>\n",
              "    <tr>\n",
              "      <th>32</th>\n",
              "      <td>NM</td>\n",
              "      <td>65.42</td>\n",
              "      <td>0.67</td>\n",
              "      <td>15.34</td>\n",
              "      <td>0.49</td>\n",
              "      <td>45.43</td>\n",
              "    </tr>\n",
              "    <tr>\n",
              "      <th>33</th>\n",
              "      <td>NV</td>\n",
              "      <td>82.33</td>\n",
              "      <td>1.57</td>\n",
              "      <td>5.58</td>\n",
              "      <td>2.01</td>\n",
              "      <td>13.17</td>\n",
              "    </tr>\n",
              "    <tr>\n",
              "      <th>34</th>\n",
              "      <td>NY</td>\n",
              "      <td>88.88</td>\n",
              "      <td>4.01</td>\n",
              "      <td>0.36</td>\n",
              "      <td>2.72</td>\n",
              "      <td>6.63</td>\n",
              "    </tr>\n",
              "    <tr>\n",
              "      <th>35</th>\n",
              "      <td>OH</td>\n",
              "      <td>92.80</td>\n",
              "      <td>3.96</td>\n",
              "      <td>0.22</td>\n",
              "      <td>0.75</td>\n",
              "      <td>2.13</td>\n",
              "    </tr>\n",
              "    <tr>\n",
              "      <th>36</th>\n",
              "      <td>OK</td>\n",
              "      <td>72.93</td>\n",
              "      <td>3.38</td>\n",
              "      <td>14.38</td>\n",
              "      <td>0.43</td>\n",
              "      <td>5.70</td>\n",
              "    </tr>\n",
              "    <tr>\n",
              "      <th>37</th>\n",
              "      <td>OR</td>\n",
              "      <td>87.63</td>\n",
              "      <td>0.53</td>\n",
              "      <td>2.59</td>\n",
              "      <td>1.38</td>\n",
              "      <td>9.78</td>\n",
              "    </tr>\n",
              "    <tr>\n",
              "      <th>38</th>\n",
              "      <td>PA</td>\n",
              "      <td>93.25</td>\n",
              "      <td>3.27</td>\n",
              "      <td>0.16</td>\n",
              "      <td>0.99</td>\n",
              "      <td>2.73</td>\n",
              "    </tr>\n",
              "    <tr>\n",
              "      <th>39</th>\n",
              "      <td>RI</td>\n",
              "      <td>89.23</td>\n",
              "      <td>2.99</td>\n",
              "      <td>0.67</td>\n",
              "      <td>1.69</td>\n",
              "      <td>6.67</td>\n",
              "    </tr>\n",
              "    <tr>\n",
              "      <th>40</th>\n",
              "      <td>SC</td>\n",
              "      <td>61.98</td>\n",
              "      <td>32.83</td>\n",
              "      <td>0.46</td>\n",
              "      <td>0.74</td>\n",
              "      <td>4.48</td>\n",
              "    </tr>\n",
              "    <tr>\n",
              "      <th>41</th>\n",
              "      <td>SD</td>\n",
              "      <td>84.82</td>\n",
              "      <td>0.29</td>\n",
              "      <td>12.03</td>\n",
              "      <td>0.32</td>\n",
              "      <td>2.04</td>\n",
              "    </tr>\n",
              "    <tr>\n",
              "      <th>42</th>\n",
              "      <td>TN</td>\n",
              "      <td>88.95</td>\n",
              "      <td>7.30</td>\n",
              "      <td>0.32</td>\n",
              "      <td>0.64</td>\n",
              "      <td>2.86</td>\n",
              "    </tr>\n",
              "    <tr>\n",
              "      <th>43</th>\n",
              "      <td>TX</td>\n",
              "      <td>82.59</td>\n",
              "      <td>5.88</td>\n",
              "      <td>0.66</td>\n",
              "      <td>1.01</td>\n",
              "      <td>39.36</td>\n",
              "    </tr>\n",
              "    <tr>\n",
              "      <th>44</th>\n",
              "      <td>UT</td>\n",
              "      <td>89.44</td>\n",
              "      <td>0.38</td>\n",
              "      <td>3.87</td>\n",
              "      <td>0.77</td>\n",
              "      <td>7.66</td>\n",
              "    </tr>\n",
              "    <tr>\n",
              "      <th>45</th>\n",
              "      <td>VA</td>\n",
              "      <td>74.60</td>\n",
              "      <td>16.51</td>\n",
              "      <td>0.34</td>\n",
              "      <td>3.67</td>\n",
              "      <td>6.15</td>\n",
              "    </tr>\n",
              "    <tr>\n",
              "      <th>46</th>\n",
              "      <td>VT</td>\n",
              "      <td>95.87</td>\n",
              "      <td>0.77</td>\n",
              "      <td>0.37</td>\n",
              "      <td>0.91</td>\n",
              "      <td>1.38</td>\n",
              "    </tr>\n",
              "    <tr>\n",
              "      <th>47</th>\n",
              "      <td>WA</td>\n",
              "      <td>82.38</td>\n",
              "      <td>1.43</td>\n",
              "      <td>3.75</td>\n",
              "      <td>3.07</td>\n",
              "      <td>10.61</td>\n",
              "    </tr>\n",
              "    <tr>\n",
              "      <th>48</th>\n",
              "      <td>WI</td>\n",
              "      <td>92.96</td>\n",
              "      <td>0.94</td>\n",
              "      <td>2.62</td>\n",
              "      <td>0.79</td>\n",
              "      <td>3.32</td>\n",
              "    </tr>\n",
              "    <tr>\n",
              "      <th>49</th>\n",
              "      <td>WV</td>\n",
              "      <td>95.04</td>\n",
              "      <td>2.92</td>\n",
              "      <td>0.20</td>\n",
              "      <td>0.34</td>\n",
              "      <td>0.90</td>\n",
              "    </tr>\n",
              "    <tr>\n",
              "      <th>50</th>\n",
              "      <td>WY</td>\n",
              "      <td>92.37</td>\n",
              "      <td>0.40</td>\n",
              "      <td>3.10</td>\n",
              "      <td>0.39</td>\n",
              "      <td>6.02</td>\n",
              "    </tr>\n",
              "  </tbody>\n",
              "</table>\n",
              "</div>"
            ],
            "text/plain": [
              "   Geographic area  share_white  share_black  share_native_american  \\\n",
              "0               AK        45.65         0.57                  45.86   \n",
              "1               AL        72.51        23.32                   0.66   \n",
              "2               AR        78.45        16.30                   0.76   \n",
              "3               AZ        59.93         0.95                  28.59   \n",
              "4               CA        71.87         2.69                   1.72   \n",
              "5               CO        87.77         0.92                   1.62   \n",
              "6               CT        86.11         4.99                   0.66   \n",
              "7               DC        38.50        50.70                   0.30   \n",
              "8               DE        76.25        15.39                   0.52   \n",
              "9               FL        78.67        13.37                   0.46   \n",
              "10              GA        62.59        30.63                   0.30   \n",
              "11              HI        33.37         1.07                   0.39   \n",
              "12              IA        96.71         0.56                   0.27   \n",
              "13              ID        88.82         0.30                   2.52   \n",
              "14              IL        90.36         4.70                   0.26   \n",
              "15              IN        94.82         1.69                   0.28   \n",
              "16              KS        92.96         0.96                   1.87   \n",
              "17              KY        92.23         4.42                   0.21   \n",
              "18              LA        64.81        30.78                   0.96   \n",
              "19              MA        89.67         2.80                   0.27   \n",
              "20              MD        72.12        19.46                   0.34   \n",
              "21              ME        95.69         0.82                   0.55   \n",
              "22              MI        90.67         4.12                   1.08   \n",
              "23              MN        91.80         1.00                   3.36   \n",
              "24              MO        90.44         5.88                   0.54   \n",
              "25              MS        53.80        41.83                   1.61   \n",
              "26              MT        84.48         0.23                  11.87   \n",
              "27              NC        71.52        20.40                   1.79   \n",
              "28              ND        92.29         0.36                   5.33   \n",
              "29              NE        94.72         0.42                   1.56   \n",
              "30              NH        95.68         0.72                   0.29   \n",
              "31              NJ        80.89         6.98                   0.26   \n",
              "32              NM        65.42         0.67                  15.34   \n",
              "33              NV        82.33         1.57                   5.58   \n",
              "34              NY        88.88         4.01                   0.36   \n",
              "35              OH        92.80         3.96                   0.22   \n",
              "36              OK        72.93         3.38                  14.38   \n",
              "37              OR        87.63         0.53                   2.59   \n",
              "38              PA        93.25         3.27                   0.16   \n",
              "39              RI        89.23         2.99                   0.67   \n",
              "40              SC        61.98        32.83                   0.46   \n",
              "41              SD        84.82         0.29                  12.03   \n",
              "42              TN        88.95         7.30                   0.32   \n",
              "43              TX        82.59         5.88                   0.66   \n",
              "44              UT        89.44         0.38                   3.87   \n",
              "45              VA        74.60        16.51                   0.34   \n",
              "46              VT        95.87         0.77                   0.37   \n",
              "47              WA        82.38         1.43                   3.75   \n",
              "48              WI        92.96         0.94                   2.62   \n",
              "49              WV        95.04         2.92                   0.20   \n",
              "50              WY        92.37         0.40                   3.10   \n",
              "\n",
              "    share_asian  share_hispanic  \n",
              "0          1.39            2.15  \n",
              "1          0.48            2.98  \n",
              "2          0.48            4.27  \n",
              "3          0.73           20.14  \n",
              "4          5.57           29.65  \n",
              "5          1.15           17.90  \n",
              "6          2.99            7.98  \n",
              "7          3.50            9.10  \n",
              "8          2.00            7.42  \n",
              "9          1.62           16.53  \n",
              "10         1.49            6.42  \n",
              "11        25.65           10.36  \n",
              "12         0.40            2.82  \n",
              "13         0.49           10.70  \n",
              "14         1.34            5.17  \n",
              "15         0.59            3.32  \n",
              "16         0.43            5.07  \n",
              "17         0.71            2.23  \n",
              "18         0.79            2.98  \n",
              "19         2.85            4.95  \n",
              "20         2.98            5.93  \n",
              "21         1.03            1.31  \n",
              "22         0.95            3.54  \n",
              "23         1.03            3.15  \n",
              "24         0.55            2.36  \n",
              "25         0.55            2.32  \n",
              "26         0.32            2.19  \n",
              "27         0.93            6.41  \n",
              "28         0.29            1.82  \n",
              "29         0.29            4.07  \n",
              "30         1.34            1.74  \n",
              "31         5.94           11.12  \n",
              "32         0.49           45.43  \n",
              "33         2.01           13.17  \n",
              "34         2.72            6.63  \n",
              "35         0.75            2.13  \n",
              "36         0.43            5.70  \n",
              "37         1.38            9.78  \n",
              "38         0.99            2.73  \n",
              "39         1.69            6.67  \n",
              "40         0.74            4.48  \n",
              "41         0.32            2.04  \n",
              "42         0.64            2.86  \n",
              "43         1.01           39.36  \n",
              "44         0.77            7.66  \n",
              "45         3.67            6.15  \n",
              "46         0.91            1.38  \n",
              "47         3.07           10.61  \n",
              "48         0.79            3.32  \n",
              "49         0.34            0.90  \n",
              "50         0.39            6.02  "
            ]
          },
          "execution_count": 95,
          "metadata": {},
          "output_type": "execute_result"
        }
      ],
      "source": [
        "#Again i will group all data by state and .agg the races with pd.series.mean\n",
        "#share_white,share_black,share_native_american,share_asian,share_hispanic\n",
        "#df_share_race_city.groupby('Geographic Area',as_index=False).agg({'percent_completed_hs':pd.Series.mean})\n",
        "df_share_race_city[['share_white','share_black','share_native_american','share_asian','share_hispanic']] = df_share_race_city[['share_white','share_black','share_native_american','share_asian','share_hispanic']].apply(pd.to_numeric, errors='coerce')\n",
        "race_states = df_share_race_city.groupby('Geographic area', as_index=False).agg({'share_white':pd.Series.mean,'share_black':pd.Series.mean,'share_native_american':pd.Series.mean,'share_asian':pd.Series.mean,'share_hispanic':pd.Series.mean})\n",
        "race_states\n"
      ]
    },
    {
      "cell_type": "code",
      "execution_count": 100,
      "metadata": {
        "id": "LqrimlLo09Na"
      },
      "outputs": [
        {
          "data": {
            "application/vnd.plotly.v1+json": {
              "config": {
                "plotlyServerURL": "https://plot.ly"
              },
              "data": [
                {
                  "alignmentgroup": "True",
                  "hovertemplate": "variable=share_white<br>State=%{x}<br>value=%{y}<extra></extra>",
                  "legendgroup": "share_white",
                  "marker": {
                    "color": "#0d0887",
                    "pattern": {
                      "shape": ""
                    }
                  },
                  "name": "share_white",
                  "offsetgroup": "share_white",
                  "orientation": "v",
                  "showlegend": true,
                  "textposition": "auto",
                  "type": "bar",
                  "x": [
                    "AK",
                    "AL",
                    "AR",
                    "AZ",
                    "CA",
                    "CO",
                    "CT",
                    "DC",
                    "DE",
                    "FL",
                    "GA",
                    "HI",
                    "IA",
                    "ID",
                    "IL",
                    "IN",
                    "KS",
                    "KY",
                    "LA",
                    "MA",
                    "MD",
                    "ME",
                    "MI",
                    "MN",
                    "MO",
                    "MS",
                    "MT",
                    "NC",
                    "ND",
                    "NE",
                    "NH",
                    "NJ",
                    "NM",
                    "NV",
                    "NY",
                    "OH",
                    "OK",
                    "OR",
                    "PA",
                    "RI",
                    "SC",
                    "SD",
                    "TN",
                    "TX",
                    "UT",
                    "VA",
                    "VT",
                    "WA",
                    "WI",
                    "WV",
                    "WY"
                  ],
                  "xaxis": "x",
                  "y": [
                    47.741256933695006,
                    72.54441721019761,
                    78.24892558265591,
                    54.31082639745687,
                    64.4543793763592,
                    80.2531099704725,
                    83.8258821286822,
                    37.70812928501469,
                    75.05990855040737,
                    71.10373885852775,
                    61.70781066672966,
                    47.104355386039195,
                    95.97589787876939,
                    86.38143632016863,
                    88.7322274200593,
                    94.17132888517399,
                    91.77471917138085,
                    92.41661926775359,
                    64.61405194870886,
                    89.19046137725532,
                    71.52077103045296,
                    96.26753911019976,
                    90.34409970799473,
                    91.48577626128296,
                    90.64124040671626,
                    53.73735590002815,
                    85.25651305929911,
                    70.77618416295047,
                    92.20386107311823,
                    93.7241106341743,
                    95.90002192501646,
                    76.89897816432402,
                    51.36729412598816,
                    78.66740740740741,
                    86.62950408446837,
                    92.93328099034704,
                    75.33103343310842,
                    85.98922107241195,
                    92.87562133999407,
                    88.13258962291557,
                    61.67450601996831,
                    85.25313911053381,
                    88.89383283207961,
                    63.7725402612731,
                    87.57568658545374,
                    73.65998406065638,
                    96.54544992933491,
                    81.37035772876914,
                    92.3765276961821,
                    95.61266398882029,
                    90.31834924998911
                  ],
                  "yaxis": "y"
                },
                {
                  "alignmentgroup": "True",
                  "hovertemplate": "variable=share_black<br>State=%{x}<br>value=%{y}<extra></extra>",
                  "legendgroup": "share_black",
                  "marker": {
                    "color": "#46039f",
                    "pattern": {
                      "shape": ""
                    }
                  },
                  "name": "share_black",
                  "offsetgroup": "share_black",
                  "orientation": "v",
                  "showlegend": true,
                  "textposition": "auto",
                  "type": "bar",
                  "x": [
                    "AK",
                    "AL",
                    "AR",
                    "AZ",
                    "CA",
                    "CO",
                    "CT",
                    "DC",
                    "DE",
                    "FL",
                    "GA",
                    "HI",
                    "IA",
                    "ID",
                    "IL",
                    "IN",
                    "KS",
                    "KY",
                    "LA",
                    "MA",
                    "MD",
                    "ME",
                    "MI",
                    "MN",
                    "MO",
                    "MS",
                    "MT",
                    "NC",
                    "ND",
                    "NE",
                    "NH",
                    "NJ",
                    "NM",
                    "NV",
                    "NY",
                    "OH",
                    "OK",
                    "OR",
                    "PA",
                    "RI",
                    "SC",
                    "SD",
                    "TN",
                    "TX",
                    "UT",
                    "VA",
                    "VT",
                    "WA",
                    "WI",
                    "WV",
                    "WY"
                  ],
                  "xaxis": "x",
                  "y": [
                    0.59331929015601,
                    23.334268068076383,
                    16.255183107264738,
                    0.8650588561530703,
                    2.4143777672078626,
                    0.839108065858903,
                    4.860132480989045,
                    49.65719882468169,
                    15.153948783046847,
                    12.084512604488909,
                    30.20103470270015,
                    1.5116246459320748,
                    0.5592746544123287,
                    0.2870583799624682,
                    4.6197213857152715,
                    1.676651240815114,
                    0.9482333728124057,
                    4.430239615820675,
                    30.680256624261283,
                    2.787010052719474,
                    19.303139490804373,
                    0.8248277768817823,
                    4.109383909184632,
                    0.997344667445447,
                    5.892224083524873,
                    41.78526689880857,
                    0.22866907409762818,
                    20.191099862065276,
                    0.35700850293105724,
                    0.4161065123484171,
                    0.7172612522316535,
                    6.630942537878393,
                    0.5237690098904604,
                    1.4977777777777777,
                    3.9063338976034228,
                    3.9654802441268004,
                    3.4876183067548308,
                    0.5196330466782374,
                    3.2569959326366935,
                    2.9516007204694676,
                    32.67486124722558,
                    0.29148883528174685,
                    7.298424952883703,
                    4.539989168836286,
                    0.3769312093034431,
                    16.30340891433689,
                    0.776046647427706,
                    1.4091773480914995,
                    0.9313692091524864,
                    2.9329191954418072,
                    0.3906155462083187
                  ],
                  "yaxis": "y"
                },
                {
                  "alignmentgroup": "True",
                  "hovertemplate": "variable=share_native_american<br>State=%{x}<br>value=%{y}<extra></extra>",
                  "legendgroup": "share_native_american",
                  "marker": {
                    "color": "#7201a8",
                    "pattern": {
                      "shape": ""
                    }
                  },
                  "name": "share_native_american",
                  "offsetgroup": "share_native_american",
                  "orientation": "v",
                  "showlegend": true,
                  "textposition": "auto",
                  "type": "bar",
                  "x": [
                    "AK",
                    "AL",
                    "AR",
                    "AZ",
                    "CA",
                    "CO",
                    "CT",
                    "DC",
                    "DE",
                    "FL",
                    "GA",
                    "HI",
                    "IA",
                    "ID",
                    "IL",
                    "IN",
                    "KS",
                    "KY",
                    "LA",
                    "MA",
                    "MD",
                    "ME",
                    "MI",
                    "MN",
                    "MO",
                    "MS",
                    "MT",
                    "NC",
                    "ND",
                    "NE",
                    "NH",
                    "NJ",
                    "NM",
                    "NV",
                    "NY",
                    "OH",
                    "OK",
                    "OR",
                    "PA",
                    "RI",
                    "SC",
                    "SD",
                    "TN",
                    "TX",
                    "UT",
                    "VA",
                    "VT",
                    "WA",
                    "WI",
                    "WV",
                    "WY"
                  ],
                  "xaxis": "x",
                  "y": [
                    47.96586854278762,
                    0.6596803899574867,
                    0.757945894720928,
                    25.90956769160903,
                    1.5453768845410252,
                    1.48575832170401,
                    0.6392582153871291,
                    0.2938295788442703,
                    0.5155373635056542,
                    0.41161925513615355,
                    0.2960793114581118,
                    0.5478120238195399,
                    0.2693095328492713,
                    2.4554202620371726,
                    0.2571061584791154,
                    0.27390837102425125,
                    1.8492389857066143,
                    0.21052752127225044,
                    0.9543320097456521,
                    0.26482530534726095,
                    0.3381107915927966,
                    0.5483491924521345,
                    1.0731337867958328,
                    3.3516148689823284,
                    0.545502356928591,
                    1.6127608147408268,
                    11.980655757649494,
                    1.7695820443801642,
                    5.324733240157353,
                    1.5434668377269904,
                    0.2881573589751622,
                    0.24438234586119928,
                    12.045446488709274,
                    5.32888888888889,
                    0.35217011718509844,
                    0.21533261361727182,
                    14.856481716356912,
                    2.540225235218123,
                    0.16091040282931302,
                    0.6623670908140142,
                    0.46053576332291174,
                    12.088410548236121,
                    0.3163605951679297,
                    0.5087378160451411,
                    3.789435113770153,
                    0.3380009657170449,
                    0.3723669845890846,
                    3.7045367677476273,
                    2.6038486309708224,
                    0.201465706923847,
                    3.0261814063127734
                  ],
                  "yaxis": "y"
                },
                {
                  "alignmentgroup": "True",
                  "hovertemplate": "variable=share_asian<br>State=%{x}<br>value=%{y}<extra></extra>",
                  "legendgroup": "share_asian",
                  "marker": {
                    "color": "#9c179e",
                    "pattern": {
                      "shape": ""
                    }
                  },
                  "name": "share_asian",
                  "offsetgroup": "share_asian",
                  "orientation": "v",
                  "showlegend": true,
                  "textposition": "auto",
                  "type": "bar",
                  "x": [
                    "AK",
                    "AL",
                    "AR",
                    "AZ",
                    "CA",
                    "CO",
                    "CT",
                    "DC",
                    "DE",
                    "FL",
                    "GA",
                    "HI",
                    "IA",
                    "ID",
                    "IL",
                    "IN",
                    "KS",
                    "KY",
                    "LA",
                    "MA",
                    "MD",
                    "ME",
                    "MI",
                    "MN",
                    "MO",
                    "MS",
                    "MT",
                    "NC",
                    "ND",
                    "NE",
                    "NH",
                    "NJ",
                    "NM",
                    "NV",
                    "NY",
                    "OH",
                    "OK",
                    "OR",
                    "PA",
                    "RI",
                    "SC",
                    "SD",
                    "TN",
                    "TX",
                    "UT",
                    "VA",
                    "VT",
                    "WA",
                    "WI",
                    "WV",
                    "WY"
                  ],
                  "xaxis": "x",
                  "y": [
                    1.4519536159200905,
                    0.48000360045975093,
                    0.4758594877827087,
                    0.6584896333597239,
                    4.993930186495907,
                    1.0559225696711245,
                    2.9103608847497084,
                    3.428011753183154,
                    1.9688864133884272,
                    1.4611992364904889,
                    1.4704747505768034,
                    36.21448803881427,
                    0.39776762265977095,
                    0.47428899495291377,
                    1.3134037148571298,
                    0.582765178542825,
                    0.420930283881504,
                    0.7125106408969273,
                    0.7840360150737247,
                    2.838174137987492,
                    2.9555018628641,
                    1.0383306837468993,
                    0.9507449878187149,
                    1.022204036017485,
                    0.5510538003038684,
                    0.5454966861835099,
                    0.3218510305316073,
                    0.9166633187363573,
                    0.29323029166074976,
                    0.2888349017654245,
                    1.3457783902861737,
                    5.651494377985006,
                    0.38781949023361334,
                    1.9177777777777776,
                    2.650539199009727,
                    0.7525413240668504,
                    0.440532359257944,
                    1.356631128394514,
                    0.9849975044772611,
                    1.6675382023124747,
                    0.7364037397116362,
                    0.31958103956619455,
                    0.6369144824662147,
                    0.7835366311547027,
                    0.7547634493860975,
                    3.622942630058528,
                    0.9165305552499515,
                    3.036990315543105,
                    0.7858467875154103,
                    0.3432192865153458,
                    0.38093486352657596
                  ],
                  "yaxis": "y"
                },
                {
                  "alignmentgroup": "True",
                  "hovertemplate": "variable=share_hispanic<br>State=%{x}<br>value=%{y}<extra></extra>",
                  "legendgroup": "share_hispanic",
                  "marker": {
                    "color": "#bd3786",
                    "pattern": {
                      "shape": ""
                    }
                  },
                  "name": "share_hispanic",
                  "offsetgroup": "share_hispanic",
                  "orientation": "v",
                  "showlegend": true,
                  "textposition": "auto",
                  "type": "bar",
                  "x": [
                    "AK",
                    "AL",
                    "AR",
                    "AZ",
                    "CA",
                    "CO",
                    "CT",
                    "DC",
                    "DE",
                    "FL",
                    "GA",
                    "HI",
                    "IA",
                    "ID",
                    "IL",
                    "IN",
                    "KS",
                    "KY",
                    "LA",
                    "MA",
                    "MD",
                    "ME",
                    "MI",
                    "MN",
                    "MO",
                    "MS",
                    "MT",
                    "NC",
                    "ND",
                    "NE",
                    "NH",
                    "NJ",
                    "NM",
                    "NV",
                    "NY",
                    "OH",
                    "OK",
                    "OR",
                    "PA",
                    "RI",
                    "SC",
                    "SD",
                    "TN",
                    "TX",
                    "UT",
                    "VA",
                    "VT",
                    "WA",
                    "WI",
                    "WV",
                    "WY"
                  ],
                  "xaxis": "x",
                  "y": [
                    2.247601617441269,
                    2.9816307313087664,
                    4.262085927575699,
                    18.256057421421307,
                    26.59193578539601,
                    16.366101072293464,
                    7.764366290191912,
                    8.9128305582762,
                    7.3017188896516885,
                    14.938930045356704,
                    6.3246005685352715,
                    14.62171990539492,
                    2.79775031130923,
                    10.401796042878807,
                    5.077541320889175,
                    3.29534632444381,
                    5.006878186218617,
                    2.23010295425655,
                    2.967323402210475,
                    4.9195291266904615,
                    5.882476824285773,
                    1.320953236719428,
                    3.5226376082060975,
                    3.1430601662717765,
                    2.3699793525263937,
                    2.3191197002389483,
                    2.2123110784221556,
                    6.346470611867744,
                    1.821166892132609,
                    4.027481113984863,
                    1.7487810734905673,
                    10.57420257395139,
                    35.67567088517849,
                    12.588148148148148,
                    6.46145270173339,
                    2.133364827842033,
                    5.884334184521899,
                    9.594289517297177,
                    2.7214748200626473,
                    6.585904363488468,
                    4.453693229771573,
                    2.0473804663821364,
                    2.8544671374025348,
                    30.395196122690766,
                    7.503183642086547,
                    6.0756634292311515,
                    1.389605883398357,
                    10.478937839848621,
                    3.3024076761791887,
                    0.9097318222987162,
                    5.883918933963223
                  ],
                  "yaxis": "y"
                }
              ],
              "layout": {
                "barmode": "stack",
                "legend": {
                  "title": {
                    "text": "variable"
                  },
                  "tracegroupgap": 0
                },
                "template": {
                  "data": {
                    "bar": [
                      {
                        "error_x": {
                          "color": "#2a3f5f"
                        },
                        "error_y": {
                          "color": "#2a3f5f"
                        },
                        "marker": {
                          "line": {
                            "color": "#E5ECF6",
                            "width": 0.5
                          },
                          "pattern": {
                            "fillmode": "overlay",
                            "size": 10,
                            "solidity": 0.2
                          }
                        },
                        "type": "bar"
                      }
                    ],
                    "barpolar": [
                      {
                        "marker": {
                          "line": {
                            "color": "#E5ECF6",
                            "width": 0.5
                          },
                          "pattern": {
                            "fillmode": "overlay",
                            "size": 10,
                            "solidity": 0.2
                          }
                        },
                        "type": "barpolar"
                      }
                    ],
                    "carpet": [
                      {
                        "aaxis": {
                          "endlinecolor": "#2a3f5f",
                          "gridcolor": "white",
                          "linecolor": "white",
                          "minorgridcolor": "white",
                          "startlinecolor": "#2a3f5f"
                        },
                        "baxis": {
                          "endlinecolor": "#2a3f5f",
                          "gridcolor": "white",
                          "linecolor": "white",
                          "minorgridcolor": "white",
                          "startlinecolor": "#2a3f5f"
                        },
                        "type": "carpet"
                      }
                    ],
                    "choropleth": [
                      {
                        "colorbar": {
                          "outlinewidth": 0,
                          "ticks": ""
                        },
                        "type": "choropleth"
                      }
                    ],
                    "contour": [
                      {
                        "colorbar": {
                          "outlinewidth": 0,
                          "ticks": ""
                        },
                        "colorscale": [
                          [
                            0,
                            "#0d0887"
                          ],
                          [
                            0.1111111111111111,
                            "#46039f"
                          ],
                          [
                            0.2222222222222222,
                            "#7201a8"
                          ],
                          [
                            0.3333333333333333,
                            "#9c179e"
                          ],
                          [
                            0.4444444444444444,
                            "#bd3786"
                          ],
                          [
                            0.5555555555555556,
                            "#d8576b"
                          ],
                          [
                            0.6666666666666666,
                            "#ed7953"
                          ],
                          [
                            0.7777777777777778,
                            "#fb9f3a"
                          ],
                          [
                            0.8888888888888888,
                            "#fdca26"
                          ],
                          [
                            1,
                            "#f0f921"
                          ]
                        ],
                        "type": "contour"
                      }
                    ],
                    "contourcarpet": [
                      {
                        "colorbar": {
                          "outlinewidth": 0,
                          "ticks": ""
                        },
                        "type": "contourcarpet"
                      }
                    ],
                    "heatmap": [
                      {
                        "colorbar": {
                          "outlinewidth": 0,
                          "ticks": ""
                        },
                        "colorscale": [
                          [
                            0,
                            "#0d0887"
                          ],
                          [
                            0.1111111111111111,
                            "#46039f"
                          ],
                          [
                            0.2222222222222222,
                            "#7201a8"
                          ],
                          [
                            0.3333333333333333,
                            "#9c179e"
                          ],
                          [
                            0.4444444444444444,
                            "#bd3786"
                          ],
                          [
                            0.5555555555555556,
                            "#d8576b"
                          ],
                          [
                            0.6666666666666666,
                            "#ed7953"
                          ],
                          [
                            0.7777777777777778,
                            "#fb9f3a"
                          ],
                          [
                            0.8888888888888888,
                            "#fdca26"
                          ],
                          [
                            1,
                            "#f0f921"
                          ]
                        ],
                        "type": "heatmap"
                      }
                    ],
                    "heatmapgl": [
                      {
                        "colorbar": {
                          "outlinewidth": 0,
                          "ticks": ""
                        },
                        "colorscale": [
                          [
                            0,
                            "#0d0887"
                          ],
                          [
                            0.1111111111111111,
                            "#46039f"
                          ],
                          [
                            0.2222222222222222,
                            "#7201a8"
                          ],
                          [
                            0.3333333333333333,
                            "#9c179e"
                          ],
                          [
                            0.4444444444444444,
                            "#bd3786"
                          ],
                          [
                            0.5555555555555556,
                            "#d8576b"
                          ],
                          [
                            0.6666666666666666,
                            "#ed7953"
                          ],
                          [
                            0.7777777777777778,
                            "#fb9f3a"
                          ],
                          [
                            0.8888888888888888,
                            "#fdca26"
                          ],
                          [
                            1,
                            "#f0f921"
                          ]
                        ],
                        "type": "heatmapgl"
                      }
                    ],
                    "histogram": [
                      {
                        "marker": {
                          "pattern": {
                            "fillmode": "overlay",
                            "size": 10,
                            "solidity": 0.2
                          }
                        },
                        "type": "histogram"
                      }
                    ],
                    "histogram2d": [
                      {
                        "colorbar": {
                          "outlinewidth": 0,
                          "ticks": ""
                        },
                        "colorscale": [
                          [
                            0,
                            "#0d0887"
                          ],
                          [
                            0.1111111111111111,
                            "#46039f"
                          ],
                          [
                            0.2222222222222222,
                            "#7201a8"
                          ],
                          [
                            0.3333333333333333,
                            "#9c179e"
                          ],
                          [
                            0.4444444444444444,
                            "#bd3786"
                          ],
                          [
                            0.5555555555555556,
                            "#d8576b"
                          ],
                          [
                            0.6666666666666666,
                            "#ed7953"
                          ],
                          [
                            0.7777777777777778,
                            "#fb9f3a"
                          ],
                          [
                            0.8888888888888888,
                            "#fdca26"
                          ],
                          [
                            1,
                            "#f0f921"
                          ]
                        ],
                        "type": "histogram2d"
                      }
                    ],
                    "histogram2dcontour": [
                      {
                        "colorbar": {
                          "outlinewidth": 0,
                          "ticks": ""
                        },
                        "colorscale": [
                          [
                            0,
                            "#0d0887"
                          ],
                          [
                            0.1111111111111111,
                            "#46039f"
                          ],
                          [
                            0.2222222222222222,
                            "#7201a8"
                          ],
                          [
                            0.3333333333333333,
                            "#9c179e"
                          ],
                          [
                            0.4444444444444444,
                            "#bd3786"
                          ],
                          [
                            0.5555555555555556,
                            "#d8576b"
                          ],
                          [
                            0.6666666666666666,
                            "#ed7953"
                          ],
                          [
                            0.7777777777777778,
                            "#fb9f3a"
                          ],
                          [
                            0.8888888888888888,
                            "#fdca26"
                          ],
                          [
                            1,
                            "#f0f921"
                          ]
                        ],
                        "type": "histogram2dcontour"
                      }
                    ],
                    "mesh3d": [
                      {
                        "colorbar": {
                          "outlinewidth": 0,
                          "ticks": ""
                        },
                        "type": "mesh3d"
                      }
                    ],
                    "parcoords": [
                      {
                        "line": {
                          "colorbar": {
                            "outlinewidth": 0,
                            "ticks": ""
                          }
                        },
                        "type": "parcoords"
                      }
                    ],
                    "pie": [
                      {
                        "automargin": true,
                        "type": "pie"
                      }
                    ],
                    "scatter": [
                      {
                        "fillpattern": {
                          "fillmode": "overlay",
                          "size": 10,
                          "solidity": 0.2
                        },
                        "type": "scatter"
                      }
                    ],
                    "scatter3d": [
                      {
                        "line": {
                          "colorbar": {
                            "outlinewidth": 0,
                            "ticks": ""
                          }
                        },
                        "marker": {
                          "colorbar": {
                            "outlinewidth": 0,
                            "ticks": ""
                          }
                        },
                        "type": "scatter3d"
                      }
                    ],
                    "scattercarpet": [
                      {
                        "marker": {
                          "colorbar": {
                            "outlinewidth": 0,
                            "ticks": ""
                          }
                        },
                        "type": "scattercarpet"
                      }
                    ],
                    "scattergeo": [
                      {
                        "marker": {
                          "colorbar": {
                            "outlinewidth": 0,
                            "ticks": ""
                          }
                        },
                        "type": "scattergeo"
                      }
                    ],
                    "scattergl": [
                      {
                        "marker": {
                          "colorbar": {
                            "outlinewidth": 0,
                            "ticks": ""
                          }
                        },
                        "type": "scattergl"
                      }
                    ],
                    "scattermapbox": [
                      {
                        "marker": {
                          "colorbar": {
                            "outlinewidth": 0,
                            "ticks": ""
                          }
                        },
                        "type": "scattermapbox"
                      }
                    ],
                    "scatterpolar": [
                      {
                        "marker": {
                          "colorbar": {
                            "outlinewidth": 0,
                            "ticks": ""
                          }
                        },
                        "type": "scatterpolar"
                      }
                    ],
                    "scatterpolargl": [
                      {
                        "marker": {
                          "colorbar": {
                            "outlinewidth": 0,
                            "ticks": ""
                          }
                        },
                        "type": "scatterpolargl"
                      }
                    ],
                    "scatterternary": [
                      {
                        "marker": {
                          "colorbar": {
                            "outlinewidth": 0,
                            "ticks": ""
                          }
                        },
                        "type": "scatterternary"
                      }
                    ],
                    "surface": [
                      {
                        "colorbar": {
                          "outlinewidth": 0,
                          "ticks": ""
                        },
                        "colorscale": [
                          [
                            0,
                            "#0d0887"
                          ],
                          [
                            0.1111111111111111,
                            "#46039f"
                          ],
                          [
                            0.2222222222222222,
                            "#7201a8"
                          ],
                          [
                            0.3333333333333333,
                            "#9c179e"
                          ],
                          [
                            0.4444444444444444,
                            "#bd3786"
                          ],
                          [
                            0.5555555555555556,
                            "#d8576b"
                          ],
                          [
                            0.6666666666666666,
                            "#ed7953"
                          ],
                          [
                            0.7777777777777778,
                            "#fb9f3a"
                          ],
                          [
                            0.8888888888888888,
                            "#fdca26"
                          ],
                          [
                            1,
                            "#f0f921"
                          ]
                        ],
                        "type": "surface"
                      }
                    ],
                    "table": [
                      {
                        "cells": {
                          "fill": {
                            "color": "#EBF0F8"
                          },
                          "line": {
                            "color": "white"
                          }
                        },
                        "header": {
                          "fill": {
                            "color": "#C8D4E3"
                          },
                          "line": {
                            "color": "white"
                          }
                        },
                        "type": "table"
                      }
                    ]
                  },
                  "layout": {
                    "annotationdefaults": {
                      "arrowcolor": "#2a3f5f",
                      "arrowhead": 0,
                      "arrowwidth": 1
                    },
                    "autotypenumbers": "strict",
                    "coloraxis": {
                      "colorbar": {
                        "outlinewidth": 0,
                        "ticks": ""
                      }
                    },
                    "colorscale": {
                      "diverging": [
                        [
                          0,
                          "#8e0152"
                        ],
                        [
                          0.1,
                          "#c51b7d"
                        ],
                        [
                          0.2,
                          "#de77ae"
                        ],
                        [
                          0.3,
                          "#f1b6da"
                        ],
                        [
                          0.4,
                          "#fde0ef"
                        ],
                        [
                          0.5,
                          "#f7f7f7"
                        ],
                        [
                          0.6,
                          "#e6f5d0"
                        ],
                        [
                          0.7,
                          "#b8e186"
                        ],
                        [
                          0.8,
                          "#7fbc41"
                        ],
                        [
                          0.9,
                          "#4d9221"
                        ],
                        [
                          1,
                          "#276419"
                        ]
                      ],
                      "sequential": [
                        [
                          0,
                          "#0d0887"
                        ],
                        [
                          0.1111111111111111,
                          "#46039f"
                        ],
                        [
                          0.2222222222222222,
                          "#7201a8"
                        ],
                        [
                          0.3333333333333333,
                          "#9c179e"
                        ],
                        [
                          0.4444444444444444,
                          "#bd3786"
                        ],
                        [
                          0.5555555555555556,
                          "#d8576b"
                        ],
                        [
                          0.6666666666666666,
                          "#ed7953"
                        ],
                        [
                          0.7777777777777778,
                          "#fb9f3a"
                        ],
                        [
                          0.8888888888888888,
                          "#fdca26"
                        ],
                        [
                          1,
                          "#f0f921"
                        ]
                      ],
                      "sequentialminus": [
                        [
                          0,
                          "#0d0887"
                        ],
                        [
                          0.1111111111111111,
                          "#46039f"
                        ],
                        [
                          0.2222222222222222,
                          "#7201a8"
                        ],
                        [
                          0.3333333333333333,
                          "#9c179e"
                        ],
                        [
                          0.4444444444444444,
                          "#bd3786"
                        ],
                        [
                          0.5555555555555556,
                          "#d8576b"
                        ],
                        [
                          0.6666666666666666,
                          "#ed7953"
                        ],
                        [
                          0.7777777777777778,
                          "#fb9f3a"
                        ],
                        [
                          0.8888888888888888,
                          "#fdca26"
                        ],
                        [
                          1,
                          "#f0f921"
                        ]
                      ]
                    },
                    "colorway": [
                      "#636efa",
                      "#EF553B",
                      "#00cc96",
                      "#ab63fa",
                      "#FFA15A",
                      "#19d3f3",
                      "#FF6692",
                      "#B6E880",
                      "#FF97FF",
                      "#FECB52"
                    ],
                    "font": {
                      "color": "#2a3f5f"
                    },
                    "geo": {
                      "bgcolor": "white",
                      "lakecolor": "white",
                      "landcolor": "#E5ECF6",
                      "showlakes": true,
                      "showland": true,
                      "subunitcolor": "white"
                    },
                    "hoverlabel": {
                      "align": "left"
                    },
                    "hovermode": "closest",
                    "mapbox": {
                      "style": "light"
                    },
                    "paper_bgcolor": "white",
                    "plot_bgcolor": "#E5ECF6",
                    "polar": {
                      "angularaxis": {
                        "gridcolor": "white",
                        "linecolor": "white",
                        "ticks": ""
                      },
                      "bgcolor": "#E5ECF6",
                      "radialaxis": {
                        "gridcolor": "white",
                        "linecolor": "white",
                        "ticks": ""
                      }
                    },
                    "scene": {
                      "xaxis": {
                        "backgroundcolor": "#E5ECF6",
                        "gridcolor": "white",
                        "gridwidth": 2,
                        "linecolor": "white",
                        "showbackground": true,
                        "ticks": "",
                        "zerolinecolor": "white"
                      },
                      "yaxis": {
                        "backgroundcolor": "#E5ECF6",
                        "gridcolor": "white",
                        "gridwidth": 2,
                        "linecolor": "white",
                        "showbackground": true,
                        "ticks": "",
                        "zerolinecolor": "white"
                      },
                      "zaxis": {
                        "backgroundcolor": "#E5ECF6",
                        "gridcolor": "white",
                        "gridwidth": 2,
                        "linecolor": "white",
                        "showbackground": true,
                        "ticks": "",
                        "zerolinecolor": "white"
                      }
                    },
                    "shapedefaults": {
                      "line": {
                        "color": "#2a3f5f"
                      }
                    },
                    "ternary": {
                      "aaxis": {
                        "gridcolor": "white",
                        "linecolor": "white",
                        "ticks": ""
                      },
                      "baxis": {
                        "gridcolor": "white",
                        "linecolor": "white",
                        "ticks": ""
                      },
                      "bgcolor": "#E5ECF6",
                      "caxis": {
                        "gridcolor": "white",
                        "linecolor": "white",
                        "ticks": ""
                      }
                    },
                    "title": {
                      "x": 0.05
                    },
                    "xaxis": {
                      "automargin": true,
                      "gridcolor": "white",
                      "linecolor": "white",
                      "ticks": "",
                      "title": {
                        "standoff": 15
                      },
                      "zerolinecolor": "white",
                      "zerolinewidth": 2
                    },
                    "yaxis": {
                      "automargin": true,
                      "gridcolor": "white",
                      "linecolor": "white",
                      "ticks": "",
                      "title": {
                        "standoff": 15
                      },
                      "zerolinecolor": "white",
                      "zerolinewidth": 2
                    }
                  }
                },
                "title": {
                  "text": "Share of Different Races per State"
                },
                "width": 1100,
                "xaxis": {
                  "anchor": "y",
                  "domain": [
                    0,
                    1
                  ],
                  "title": {
                    "text": "State"
                  }
                },
                "yaxis": {
                  "anchor": "x",
                  "domain": [
                    0,
                    1
                  ],
                  "title": {
                    "text": "Share of Population"
                  }
                }
              }
            }
          },
          "metadata": {},
          "output_type": "display_data"
        }
      ],
      "source": [
        "race_states[['share_white','share_black','share_native_american','share_asian','share_hispanic']] = race_states[['share_white','share_black','share_native_american','share_asian','share_hispanic']].div(race_states[['share_white','share_black','share_native_american','share_asian','share_hispanic']].sum(axis=1), axis=0).multiply(100)\n",
        "\n",
        "fig = px.bar(race_states, x='Geographic area', y=['share_white','share_black','share_native_american','share_asian','share_hispanic'],\n",
        "             labels={'Geographic area':'State','share_white':'Share White','share_black':'Share Black','share_native_american':'Share Native American','share_asian':'Share Asian','share_hispanic':'Share Hispanic'},\n",
        "             title='Share of Different Races per State',\n",
        "             color_discrete_sequence=px.colors.sequential.Plasma)\n",
        "fig.update_layout(yaxis_title=\"Share of Population\",\n",
        "                  barmode='stack')\n",
        "\n",
        "fig.update_layout(width=1100)\n",
        "fig.show()"
      ]
    },
    {
      "cell_type": "markdown",
      "metadata": {
        "_uuid": "77493cfd86a031612be8fb8d60f27713e74e6d80",
        "id": "K7xvQXkjuRo7"
      },
      "source": [
        "# Create Donut Chart by of People Killed by Race\n",
        "\n",
        "Hint: Use `.value_counts()`"
      ]
    },
    {
      "cell_type": "code",
      "execution_count": 104,
      "metadata": {
        "id": "1nOafPdy1u9Z"
      },
      "outputs": [
        {
          "data": {
            "text/html": [
              "<div>\n",
              "<style scoped>\n",
              "    .dataframe tbody tr th:only-of-type {\n",
              "        vertical-align: middle;\n",
              "    }\n",
              "\n",
              "    .dataframe tbody tr th {\n",
              "        vertical-align: top;\n",
              "    }\n",
              "\n",
              "    .dataframe thead th {\n",
              "        text-align: right;\n",
              "    }\n",
              "</style>\n",
              "<table border=\"1\" class=\"dataframe\">\n",
              "  <thead>\n",
              "    <tr style=\"text-align: right;\">\n",
              "      <th></th>\n",
              "      <th>count</th>\n",
              "    </tr>\n",
              "    <tr>\n",
              "      <th>race</th>\n",
              "      <th></th>\n",
              "    </tr>\n",
              "  </thead>\n",
              "  <tbody>\n",
              "    <tr>\n",
              "      <th>0</th>\n",
              "      <td>195</td>\n",
              "    </tr>\n",
              "    <tr>\n",
              "      <th>A</th>\n",
              "      <td>39</td>\n",
              "    </tr>\n",
              "    <tr>\n",
              "      <th>B</th>\n",
              "      <td>618</td>\n",
              "    </tr>\n",
              "    <tr>\n",
              "      <th>H</th>\n",
              "      <td>423</td>\n",
              "    </tr>\n",
              "    <tr>\n",
              "      <th>N</th>\n",
              "      <td>31</td>\n",
              "    </tr>\n",
              "    <tr>\n",
              "      <th>O</th>\n",
              "      <td>28</td>\n",
              "    </tr>\n",
              "    <tr>\n",
              "      <th>W</th>\n",
              "      <td>1201</td>\n",
              "    </tr>\n",
              "  </tbody>\n",
              "</table>\n",
              "</div>"
            ],
            "text/plain": [
              "      count\n",
              "race       \n",
              "0       195\n",
              "A        39\n",
              "B       618\n",
              "H       423\n",
              "N        31\n",
              "O        28\n",
              "W      1201"
            ]
          },
          "execution_count": 104,
          "metadata": {},
          "output_type": "execute_result"
        }
      ],
      "source": [
        "#df_fatalities.groupby('race').agg({'name':pd.Series.count})\n",
        "df_fatalities_agg = df_fatalities.groupby('race').agg({'name':pd.Series.count}).rename(columns={'name':'count'})\n",
        "df_fatalities_agg"
      ]
    },
    {
      "cell_type": "code",
      "execution_count": 106,
      "metadata": {
        "id": "YN3hzJTe1vHJ"
      },
      "outputs": [
        {
          "data": {
            "application/vnd.plotly.v1+json": {
              "config": {
                "plotlyServerURL": "https://plot.ly"
              },
              "data": [
                {
                  "domain": {
                    "x": [
                      0,
                      1
                    ],
                    "y": [
                      0,
                      1
                    ]
                  },
                  "hovertemplate": "race=%{label}<br>count=%{value}<extra></extra>",
                  "labels": [
                    0,
                    "A",
                    "B",
                    "H",
                    "N",
                    "O",
                    "W"
                  ],
                  "legendgroup": "",
                  "name": "",
                  "showlegend": true,
                  "type": "pie",
                  "values": [
                    195,
                    39,
                    618,
                    423,
                    31,
                    28,
                    1201
                  ]
                }
              ],
              "layout": {
                "legend": {
                  "tracegroupgap": 0
                },
                "template": {
                  "data": {
                    "bar": [
                      {
                        "error_x": {
                          "color": "#2a3f5f"
                        },
                        "error_y": {
                          "color": "#2a3f5f"
                        },
                        "marker": {
                          "line": {
                            "color": "#E5ECF6",
                            "width": 0.5
                          },
                          "pattern": {
                            "fillmode": "overlay",
                            "size": 10,
                            "solidity": 0.2
                          }
                        },
                        "type": "bar"
                      }
                    ],
                    "barpolar": [
                      {
                        "marker": {
                          "line": {
                            "color": "#E5ECF6",
                            "width": 0.5
                          },
                          "pattern": {
                            "fillmode": "overlay",
                            "size": 10,
                            "solidity": 0.2
                          }
                        },
                        "type": "barpolar"
                      }
                    ],
                    "carpet": [
                      {
                        "aaxis": {
                          "endlinecolor": "#2a3f5f",
                          "gridcolor": "white",
                          "linecolor": "white",
                          "minorgridcolor": "white",
                          "startlinecolor": "#2a3f5f"
                        },
                        "baxis": {
                          "endlinecolor": "#2a3f5f",
                          "gridcolor": "white",
                          "linecolor": "white",
                          "minorgridcolor": "white",
                          "startlinecolor": "#2a3f5f"
                        },
                        "type": "carpet"
                      }
                    ],
                    "choropleth": [
                      {
                        "colorbar": {
                          "outlinewidth": 0,
                          "ticks": ""
                        },
                        "type": "choropleth"
                      }
                    ],
                    "contour": [
                      {
                        "colorbar": {
                          "outlinewidth": 0,
                          "ticks": ""
                        },
                        "colorscale": [
                          [
                            0,
                            "#0d0887"
                          ],
                          [
                            0.1111111111111111,
                            "#46039f"
                          ],
                          [
                            0.2222222222222222,
                            "#7201a8"
                          ],
                          [
                            0.3333333333333333,
                            "#9c179e"
                          ],
                          [
                            0.4444444444444444,
                            "#bd3786"
                          ],
                          [
                            0.5555555555555556,
                            "#d8576b"
                          ],
                          [
                            0.6666666666666666,
                            "#ed7953"
                          ],
                          [
                            0.7777777777777778,
                            "#fb9f3a"
                          ],
                          [
                            0.8888888888888888,
                            "#fdca26"
                          ],
                          [
                            1,
                            "#f0f921"
                          ]
                        ],
                        "type": "contour"
                      }
                    ],
                    "contourcarpet": [
                      {
                        "colorbar": {
                          "outlinewidth": 0,
                          "ticks": ""
                        },
                        "type": "contourcarpet"
                      }
                    ],
                    "heatmap": [
                      {
                        "colorbar": {
                          "outlinewidth": 0,
                          "ticks": ""
                        },
                        "colorscale": [
                          [
                            0,
                            "#0d0887"
                          ],
                          [
                            0.1111111111111111,
                            "#46039f"
                          ],
                          [
                            0.2222222222222222,
                            "#7201a8"
                          ],
                          [
                            0.3333333333333333,
                            "#9c179e"
                          ],
                          [
                            0.4444444444444444,
                            "#bd3786"
                          ],
                          [
                            0.5555555555555556,
                            "#d8576b"
                          ],
                          [
                            0.6666666666666666,
                            "#ed7953"
                          ],
                          [
                            0.7777777777777778,
                            "#fb9f3a"
                          ],
                          [
                            0.8888888888888888,
                            "#fdca26"
                          ],
                          [
                            1,
                            "#f0f921"
                          ]
                        ],
                        "type": "heatmap"
                      }
                    ],
                    "heatmapgl": [
                      {
                        "colorbar": {
                          "outlinewidth": 0,
                          "ticks": ""
                        },
                        "colorscale": [
                          [
                            0,
                            "#0d0887"
                          ],
                          [
                            0.1111111111111111,
                            "#46039f"
                          ],
                          [
                            0.2222222222222222,
                            "#7201a8"
                          ],
                          [
                            0.3333333333333333,
                            "#9c179e"
                          ],
                          [
                            0.4444444444444444,
                            "#bd3786"
                          ],
                          [
                            0.5555555555555556,
                            "#d8576b"
                          ],
                          [
                            0.6666666666666666,
                            "#ed7953"
                          ],
                          [
                            0.7777777777777778,
                            "#fb9f3a"
                          ],
                          [
                            0.8888888888888888,
                            "#fdca26"
                          ],
                          [
                            1,
                            "#f0f921"
                          ]
                        ],
                        "type": "heatmapgl"
                      }
                    ],
                    "histogram": [
                      {
                        "marker": {
                          "pattern": {
                            "fillmode": "overlay",
                            "size": 10,
                            "solidity": 0.2
                          }
                        },
                        "type": "histogram"
                      }
                    ],
                    "histogram2d": [
                      {
                        "colorbar": {
                          "outlinewidth": 0,
                          "ticks": ""
                        },
                        "colorscale": [
                          [
                            0,
                            "#0d0887"
                          ],
                          [
                            0.1111111111111111,
                            "#46039f"
                          ],
                          [
                            0.2222222222222222,
                            "#7201a8"
                          ],
                          [
                            0.3333333333333333,
                            "#9c179e"
                          ],
                          [
                            0.4444444444444444,
                            "#bd3786"
                          ],
                          [
                            0.5555555555555556,
                            "#d8576b"
                          ],
                          [
                            0.6666666666666666,
                            "#ed7953"
                          ],
                          [
                            0.7777777777777778,
                            "#fb9f3a"
                          ],
                          [
                            0.8888888888888888,
                            "#fdca26"
                          ],
                          [
                            1,
                            "#f0f921"
                          ]
                        ],
                        "type": "histogram2d"
                      }
                    ],
                    "histogram2dcontour": [
                      {
                        "colorbar": {
                          "outlinewidth": 0,
                          "ticks": ""
                        },
                        "colorscale": [
                          [
                            0,
                            "#0d0887"
                          ],
                          [
                            0.1111111111111111,
                            "#46039f"
                          ],
                          [
                            0.2222222222222222,
                            "#7201a8"
                          ],
                          [
                            0.3333333333333333,
                            "#9c179e"
                          ],
                          [
                            0.4444444444444444,
                            "#bd3786"
                          ],
                          [
                            0.5555555555555556,
                            "#d8576b"
                          ],
                          [
                            0.6666666666666666,
                            "#ed7953"
                          ],
                          [
                            0.7777777777777778,
                            "#fb9f3a"
                          ],
                          [
                            0.8888888888888888,
                            "#fdca26"
                          ],
                          [
                            1,
                            "#f0f921"
                          ]
                        ],
                        "type": "histogram2dcontour"
                      }
                    ],
                    "mesh3d": [
                      {
                        "colorbar": {
                          "outlinewidth": 0,
                          "ticks": ""
                        },
                        "type": "mesh3d"
                      }
                    ],
                    "parcoords": [
                      {
                        "line": {
                          "colorbar": {
                            "outlinewidth": 0,
                            "ticks": ""
                          }
                        },
                        "type": "parcoords"
                      }
                    ],
                    "pie": [
                      {
                        "automargin": true,
                        "type": "pie"
                      }
                    ],
                    "scatter": [
                      {
                        "fillpattern": {
                          "fillmode": "overlay",
                          "size": 10,
                          "solidity": 0.2
                        },
                        "type": "scatter"
                      }
                    ],
                    "scatter3d": [
                      {
                        "line": {
                          "colorbar": {
                            "outlinewidth": 0,
                            "ticks": ""
                          }
                        },
                        "marker": {
                          "colorbar": {
                            "outlinewidth": 0,
                            "ticks": ""
                          }
                        },
                        "type": "scatter3d"
                      }
                    ],
                    "scattercarpet": [
                      {
                        "marker": {
                          "colorbar": {
                            "outlinewidth": 0,
                            "ticks": ""
                          }
                        },
                        "type": "scattercarpet"
                      }
                    ],
                    "scattergeo": [
                      {
                        "marker": {
                          "colorbar": {
                            "outlinewidth": 0,
                            "ticks": ""
                          }
                        },
                        "type": "scattergeo"
                      }
                    ],
                    "scattergl": [
                      {
                        "marker": {
                          "colorbar": {
                            "outlinewidth": 0,
                            "ticks": ""
                          }
                        },
                        "type": "scattergl"
                      }
                    ],
                    "scattermapbox": [
                      {
                        "marker": {
                          "colorbar": {
                            "outlinewidth": 0,
                            "ticks": ""
                          }
                        },
                        "type": "scattermapbox"
                      }
                    ],
                    "scatterpolar": [
                      {
                        "marker": {
                          "colorbar": {
                            "outlinewidth": 0,
                            "ticks": ""
                          }
                        },
                        "type": "scatterpolar"
                      }
                    ],
                    "scatterpolargl": [
                      {
                        "marker": {
                          "colorbar": {
                            "outlinewidth": 0,
                            "ticks": ""
                          }
                        },
                        "type": "scatterpolargl"
                      }
                    ],
                    "scatterternary": [
                      {
                        "marker": {
                          "colorbar": {
                            "outlinewidth": 0,
                            "ticks": ""
                          }
                        },
                        "type": "scatterternary"
                      }
                    ],
                    "surface": [
                      {
                        "colorbar": {
                          "outlinewidth": 0,
                          "ticks": ""
                        },
                        "colorscale": [
                          [
                            0,
                            "#0d0887"
                          ],
                          [
                            0.1111111111111111,
                            "#46039f"
                          ],
                          [
                            0.2222222222222222,
                            "#7201a8"
                          ],
                          [
                            0.3333333333333333,
                            "#9c179e"
                          ],
                          [
                            0.4444444444444444,
                            "#bd3786"
                          ],
                          [
                            0.5555555555555556,
                            "#d8576b"
                          ],
                          [
                            0.6666666666666666,
                            "#ed7953"
                          ],
                          [
                            0.7777777777777778,
                            "#fb9f3a"
                          ],
                          [
                            0.8888888888888888,
                            "#fdca26"
                          ],
                          [
                            1,
                            "#f0f921"
                          ]
                        ],
                        "type": "surface"
                      }
                    ],
                    "table": [
                      {
                        "cells": {
                          "fill": {
                            "color": "#EBF0F8"
                          },
                          "line": {
                            "color": "white"
                          }
                        },
                        "header": {
                          "fill": {
                            "color": "#C8D4E3"
                          },
                          "line": {
                            "color": "white"
                          }
                        },
                        "type": "table"
                      }
                    ]
                  },
                  "layout": {
                    "annotationdefaults": {
                      "arrowcolor": "#2a3f5f",
                      "arrowhead": 0,
                      "arrowwidth": 1
                    },
                    "autotypenumbers": "strict",
                    "coloraxis": {
                      "colorbar": {
                        "outlinewidth": 0,
                        "ticks": ""
                      }
                    },
                    "colorscale": {
                      "diverging": [
                        [
                          0,
                          "#8e0152"
                        ],
                        [
                          0.1,
                          "#c51b7d"
                        ],
                        [
                          0.2,
                          "#de77ae"
                        ],
                        [
                          0.3,
                          "#f1b6da"
                        ],
                        [
                          0.4,
                          "#fde0ef"
                        ],
                        [
                          0.5,
                          "#f7f7f7"
                        ],
                        [
                          0.6,
                          "#e6f5d0"
                        ],
                        [
                          0.7,
                          "#b8e186"
                        ],
                        [
                          0.8,
                          "#7fbc41"
                        ],
                        [
                          0.9,
                          "#4d9221"
                        ],
                        [
                          1,
                          "#276419"
                        ]
                      ],
                      "sequential": [
                        [
                          0,
                          "#0d0887"
                        ],
                        [
                          0.1111111111111111,
                          "#46039f"
                        ],
                        [
                          0.2222222222222222,
                          "#7201a8"
                        ],
                        [
                          0.3333333333333333,
                          "#9c179e"
                        ],
                        [
                          0.4444444444444444,
                          "#bd3786"
                        ],
                        [
                          0.5555555555555556,
                          "#d8576b"
                        ],
                        [
                          0.6666666666666666,
                          "#ed7953"
                        ],
                        [
                          0.7777777777777778,
                          "#fb9f3a"
                        ],
                        [
                          0.8888888888888888,
                          "#fdca26"
                        ],
                        [
                          1,
                          "#f0f921"
                        ]
                      ],
                      "sequentialminus": [
                        [
                          0,
                          "#0d0887"
                        ],
                        [
                          0.1111111111111111,
                          "#46039f"
                        ],
                        [
                          0.2222222222222222,
                          "#7201a8"
                        ],
                        [
                          0.3333333333333333,
                          "#9c179e"
                        ],
                        [
                          0.4444444444444444,
                          "#bd3786"
                        ],
                        [
                          0.5555555555555556,
                          "#d8576b"
                        ],
                        [
                          0.6666666666666666,
                          "#ed7953"
                        ],
                        [
                          0.7777777777777778,
                          "#fb9f3a"
                        ],
                        [
                          0.8888888888888888,
                          "#fdca26"
                        ],
                        [
                          1,
                          "#f0f921"
                        ]
                      ]
                    },
                    "colorway": [
                      "#636efa",
                      "#EF553B",
                      "#00cc96",
                      "#ab63fa",
                      "#FFA15A",
                      "#19d3f3",
                      "#FF6692",
                      "#B6E880",
                      "#FF97FF",
                      "#FECB52"
                    ],
                    "font": {
                      "color": "#2a3f5f"
                    },
                    "geo": {
                      "bgcolor": "white",
                      "lakecolor": "white",
                      "landcolor": "#E5ECF6",
                      "showlakes": true,
                      "showland": true,
                      "subunitcolor": "white"
                    },
                    "hoverlabel": {
                      "align": "left"
                    },
                    "hovermode": "closest",
                    "mapbox": {
                      "style": "light"
                    },
                    "paper_bgcolor": "white",
                    "plot_bgcolor": "#E5ECF6",
                    "polar": {
                      "angularaxis": {
                        "gridcolor": "white",
                        "linecolor": "white",
                        "ticks": ""
                      },
                      "bgcolor": "#E5ECF6",
                      "radialaxis": {
                        "gridcolor": "white",
                        "linecolor": "white",
                        "ticks": ""
                      }
                    },
                    "scene": {
                      "xaxis": {
                        "backgroundcolor": "#E5ECF6",
                        "gridcolor": "white",
                        "gridwidth": 2,
                        "linecolor": "white",
                        "showbackground": true,
                        "ticks": "",
                        "zerolinecolor": "white"
                      },
                      "yaxis": {
                        "backgroundcolor": "#E5ECF6",
                        "gridcolor": "white",
                        "gridwidth": 2,
                        "linecolor": "white",
                        "showbackground": true,
                        "ticks": "",
                        "zerolinecolor": "white"
                      },
                      "zaxis": {
                        "backgroundcolor": "#E5ECF6",
                        "gridcolor": "white",
                        "gridwidth": 2,
                        "linecolor": "white",
                        "showbackground": true,
                        "ticks": "",
                        "zerolinecolor": "white"
                      }
                    },
                    "shapedefaults": {
                      "line": {
                        "color": "#2a3f5f"
                      }
                    },
                    "ternary": {
                      "aaxis": {
                        "gridcolor": "white",
                        "linecolor": "white",
                        "ticks": ""
                      },
                      "baxis": {
                        "gridcolor": "white",
                        "linecolor": "white",
                        "ticks": ""
                      },
                      "bgcolor": "#E5ECF6",
                      "caxis": {
                        "gridcolor": "white",
                        "linecolor": "white",
                        "ticks": ""
                      }
                    },
                    "title": {
                      "x": 0.05
                    },
                    "xaxis": {
                      "automargin": true,
                      "gridcolor": "white",
                      "linecolor": "white",
                      "ticks": "",
                      "title": {
                        "standoff": 15
                      },
                      "zerolinecolor": "white",
                      "zerolinewidth": 2
                    },
                    "yaxis": {
                      "automargin": true,
                      "gridcolor": "white",
                      "linecolor": "white",
                      "ticks": "",
                      "title": {
                        "standoff": 15
                      },
                      "zerolinecolor": "white",
                      "zerolinewidth": 2
                    }
                  }
                },
                "title": {
                  "text": "Deaths in Police Brutality by Race"
                }
              }
            }
          },
          "metadata": {},
          "output_type": "display_data"
        }
      ],
      "source": [
        "import plotly.express as px\n",
        "\n",
        "fig = px.pie(df_fatalities_agg, values='count', names=df_fatalities_agg.index,title='Deaths in Police Brutality by Race')\n",
        "fig.show()\n",
        "\n",
        "#'W' represents 'White'\n",
        "#'B' represents 'Black'\n",
        "#'H' represents 'Hispanic'\n",
        "#'A' represents 'Asian'\n",
        "#'N' represents 'Native American'\n",
        "#'O' represents 'Other'"
      ]
    },
    {
      "cell_type": "markdown",
      "metadata": {
        "id": "kr-8Rezn3Bep"
      },
      "source": [
        "# Create a Chart Comparing the Total Number of Deaths of Men and Women\n",
        "\n",
        "Use `df_fatalities` to illustrate how many more men are killed compared to women. "
      ]
    },
    {
      "cell_type": "code",
      "execution_count": null,
      "metadata": {
        "id": "joH1L4303BsJ"
      },
      "outputs": [],
      "source": [
        "#continue here"
      ]
    },
    {
      "cell_type": "code",
      "execution_count": null,
      "metadata": {
        "id": "X4MrMkVa3MTk"
      },
      "outputs": [],
      "source": []
    },
    {
      "cell_type": "markdown",
      "metadata": {
        "_uuid": "cd1531c8421bfb6967cebf7039056779f9b960a6",
        "id": "ZxbBdvM0uRpQ"
      },
      "source": [
        "# Create a Box Plot Showing the Age and Manner of Death\n",
        "\n",
        "Break out the data by gender using `df_fatalities`. Is there a difference between men and women in the manner of death? "
      ]
    },
    {
      "cell_type": "code",
      "execution_count": null,
      "metadata": {
        "id": "WdPPZLJY2shA"
      },
      "outputs": [],
      "source": []
    },
    {
      "cell_type": "code",
      "execution_count": null,
      "metadata": {
        "id": "tpPq4uFc2sql"
      },
      "outputs": [],
      "source": []
    },
    {
      "cell_type": "code",
      "execution_count": null,
      "metadata": {
        "id": "EnFbXlRm3XK6"
      },
      "outputs": [],
      "source": []
    },
    {
      "cell_type": "markdown",
      "metadata": {
        "id": "h1pAgkyb3Xb0"
      },
      "source": [
        "# Were People Armed? \n",
        "\n",
        "In what percentage of police killings were people armed? Create chart that show what kind of weapon (if any) the deceased was carrying. How many of the people killed by police were armed with guns versus unarmed? "
      ]
    },
    {
      "cell_type": "code",
      "execution_count": null,
      "metadata": {
        "id": "0d9B3Pec4TdM"
      },
      "outputs": [],
      "source": []
    },
    {
      "cell_type": "code",
      "execution_count": null,
      "metadata": {
        "id": "vdGTO3pW4Tp5"
      },
      "outputs": [],
      "source": []
    },
    {
      "cell_type": "code",
      "execution_count": null,
      "metadata": {
        "id": "qnO_rckl4WuJ"
      },
      "outputs": [],
      "source": []
    },
    {
      "cell_type": "markdown",
      "metadata": {
        "id": "IgD2a5-L4W_I"
      },
      "source": [
        "# How Old Were the People Killed?"
      ]
    },
    {
      "cell_type": "markdown",
      "metadata": {
        "id": "BNPrdT-W9lf3"
      },
      "source": [
        "Work out what percentage of people killed were under 25 years old.  "
      ]
    },
    {
      "cell_type": "code",
      "execution_count": null,
      "metadata": {
        "id": "zSyDgzb542O9"
      },
      "outputs": [],
      "source": []
    },
    {
      "cell_type": "markdown",
      "metadata": {
        "id": "5XrAD_ey9qBB"
      },
      "source": [
        "Create a histogram and KDE plot that shows the distribution of ages of the people killed by police. "
      ]
    },
    {
      "cell_type": "code",
      "execution_count": null,
      "metadata": {
        "id": "U6B1Qp7l42H8"
      },
      "outputs": [],
      "source": []
    },
    {
      "cell_type": "markdown",
      "metadata": {
        "id": "zcqqPDo79rTx"
      },
      "source": [
        "Create a seperate KDE plot for each race. Is there a difference between the distributions? "
      ]
    },
    {
      "cell_type": "code",
      "execution_count": null,
      "metadata": {
        "id": "ubUnMjok43Zo"
      },
      "outputs": [],
      "source": []
    },
    {
      "cell_type": "markdown",
      "metadata": {
        "id": "JkcHvMUt43uE"
      },
      "source": [
        "# Race of People Killed\n",
        "\n",
        "Create a chart that shows the total number of people killed by race. "
      ]
    },
    {
      "cell_type": "code",
      "execution_count": null,
      "metadata": {
        "id": "e8wZvBrt5BEb"
      },
      "outputs": [],
      "source": []
    },
    {
      "cell_type": "code",
      "execution_count": null,
      "metadata": {
        "id": "_aqN0wC45BOl"
      },
      "outputs": [],
      "source": []
    },
    {
      "cell_type": "markdown",
      "metadata": {
        "id": "SJaNm4rC5nWm"
      },
      "source": [
        "# Mental Illness and Police Killings\n",
        "\n",
        "What percentage of people killed by police have been diagnosed with a mental illness?"
      ]
    },
    {
      "cell_type": "code",
      "execution_count": null,
      "metadata": {
        "id": "dbuGvCnN5ytC"
      },
      "outputs": [],
      "source": []
    },
    {
      "cell_type": "code",
      "execution_count": null,
      "metadata": {
        "id": "BsKDVLiY5CP_"
      },
      "outputs": [],
      "source": []
    },
    {
      "cell_type": "markdown",
      "metadata": {
        "id": "R0WSPeKD5Cir"
      },
      "source": [
        "# In Which Cities Do the Most Police Killings Take Place?\n",
        "\n",
        "Create a chart ranking the top 10 cities with the most police killings. Which cities are the most dangerous?  "
      ]
    },
    {
      "cell_type": "code",
      "execution_count": null,
      "metadata": {
        "id": "NYVwo3qy5UV3"
      },
      "outputs": [],
      "source": []
    },
    {
      "cell_type": "code",
      "execution_count": null,
      "metadata": {
        "id": "T_FU4GFk5Upa"
      },
      "outputs": [],
      "source": []
    },
    {
      "cell_type": "markdown",
      "metadata": {
        "id": "AqcOW6ca8JMD"
      },
      "source": [
        "# Rate of Death by Race\n",
        "\n",
        "Find the share of each race in the top 10 cities. Contrast this with the top 10 cities of police killings to work out the rate at which people are killed by race for each city. "
      ]
    },
    {
      "cell_type": "code",
      "execution_count": null,
      "metadata": {
        "id": "FkjAUlKy8I2g"
      },
      "outputs": [],
      "source": []
    },
    {
      "cell_type": "code",
      "execution_count": null,
      "metadata": {
        "id": "dA3Hs9b55V59"
      },
      "outputs": [],
      "source": []
    },
    {
      "cell_type": "markdown",
      "metadata": {
        "id": "1HUJksrI5WFb"
      },
      "source": [
        "# Create a Choropleth Map of Police Killings by US State\n",
        "\n",
        "Which states are the most dangerous? Compare your map with your previous chart. Are these the same states with high degrees of poverty? "
      ]
    },
    {
      "cell_type": "code",
      "execution_count": null,
      "metadata": {
        "id": "u3UuX4Yo5dBA"
      },
      "outputs": [],
      "source": []
    },
    {
      "cell_type": "code",
      "execution_count": null,
      "metadata": {
        "id": "Y6VLPDeN5dKO"
      },
      "outputs": [],
      "source": []
    },
    {
      "cell_type": "markdown",
      "metadata": {
        "id": "37UsmVYF6hA2"
      },
      "source": [
        "# Number of Police Killings Over Time\n",
        "\n",
        "Analyse the Number of Police Killings over Time. Is there a trend in the data? "
      ]
    },
    {
      "cell_type": "code",
      "execution_count": null,
      "metadata": {
        "id": "nITf1IhP6gpI"
      },
      "outputs": [],
      "source": []
    },
    {
      "cell_type": "code",
      "execution_count": null,
      "metadata": {
        "id": "Q_vxjD_A7JRh"
      },
      "outputs": [],
      "source": []
    },
    {
      "cell_type": "code",
      "execution_count": null,
      "metadata": {
        "id": "mOqtie707JU8"
      },
      "outputs": [],
      "source": []
    },
    {
      "cell_type": "code",
      "execution_count": null,
      "metadata": {
        "id": "5fjhL8Lk7JKa"
      },
      "outputs": [],
      "source": []
    },
    {
      "cell_type": "markdown",
      "metadata": {
        "id": "9o6uLFpS61nw"
      },
      "source": [
        "# Epilogue\n",
        "\n",
        "Now that you have analysed the data yourself, read [The Washington Post's analysis here](https://www.washingtonpost.com/graphics/investigations/police-shootings-database/)."
      ]
    },
    {
      "cell_type": "code",
      "execution_count": null,
      "metadata": {
        "id": "8PjgzuNa61I1"
      },
      "outputs": [],
      "source": []
    }
  ],
  "metadata": {
    "colab": {
      "name": "Fatal Force (start).ipynb",
      "provenance": []
    },
    "kernelspec": {
      "display_name": "Python 3",
      "language": "python",
      "name": "python3"
    },
    "language_info": {
      "codemirror_mode": {
        "name": "ipython",
        "version": 3
      },
      "file_extension": ".py",
      "mimetype": "text/x-python",
      "name": "python",
      "nbconvert_exporter": "python",
      "pygments_lexer": "ipython3",
      "version": "3.10.6"
    },
    "vscode": {
      "interpreter": {
        "hash": "916dbcbb3f70747c44a77c7bcd40155683ae19c65e1c03b4aa3499c5328201f1"
      }
    }
  },
  "nbformat": 4,
  "nbformat_minor": 0
}
